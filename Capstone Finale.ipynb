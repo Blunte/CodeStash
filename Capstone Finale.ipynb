{
 "cells": [
  {
   "cell_type": "code",
   "execution_count": 1,
   "metadata": {},
   "outputs": [],
   "source": [
    "import numpy as np # linear algebra\n",
    "import pandas as pd # data processing, CSV file\n",
    "import matplotlib.pyplot as plt\n",
    "import seaborn as sns"
   ]
  },
  {
   "cell_type": "code",
   "execution_count": 2,
   "metadata": {},
   "outputs": [
    {
     "data": {
      "text/html": [
       "<div>\n",
       "<style scoped>\n",
       "    .dataframe tbody tr th:only-of-type {\n",
       "        vertical-align: middle;\n",
       "    }\n",
       "\n",
       "    .dataframe tbody tr th {\n",
       "        vertical-align: top;\n",
       "    }\n",
       "\n",
       "    .dataframe thead th {\n",
       "        text-align: right;\n",
       "    }\n",
       "</style>\n",
       "<table border=\"1\" class=\"dataframe\">\n",
       "  <thead>\n",
       "    <tr style=\"text-align: right;\">\n",
       "      <th></th>\n",
       "      <th>Unnamed: 0</th>\n",
       "      <th>ID</th>\n",
       "      <th>Salary</th>\n",
       "      <th>DOJ</th>\n",
       "      <th>DOL</th>\n",
       "      <th>Designation</th>\n",
       "      <th>JobCity</th>\n",
       "      <th>Gender</th>\n",
       "      <th>DOB</th>\n",
       "      <th>10percentage</th>\n",
       "      <th>...</th>\n",
       "      <th>ComputerScience</th>\n",
       "      <th>MechanicalEngg</th>\n",
       "      <th>ElectricalEngg</th>\n",
       "      <th>TelecomEngg</th>\n",
       "      <th>CivilEngg</th>\n",
       "      <th>conscientiousness</th>\n",
       "      <th>agreeableness</th>\n",
       "      <th>extraversion</th>\n",
       "      <th>nueroticism</th>\n",
       "      <th>openess_to_experience</th>\n",
       "    </tr>\n",
       "  </thead>\n",
       "  <tbody>\n",
       "    <tr>\n",
       "      <th>0</th>\n",
       "      <td>train</td>\n",
       "      <td>203097</td>\n",
       "      <td>420000.0</td>\n",
       "      <td>01-06-2012 00:00</td>\n",
       "      <td>present</td>\n",
       "      <td>senior quality engineer</td>\n",
       "      <td>Bangalore</td>\n",
       "      <td>f</td>\n",
       "      <td>19-02-1990 00:00</td>\n",
       "      <td>84.3</td>\n",
       "      <td>...</td>\n",
       "      <td>-1</td>\n",
       "      <td>-1</td>\n",
       "      <td>-1</td>\n",
       "      <td>-1</td>\n",
       "      <td>-1</td>\n",
       "      <td>0.9737</td>\n",
       "      <td>0.8128</td>\n",
       "      <td>0.5269</td>\n",
       "      <td>1.35490</td>\n",
       "      <td>-0.4455</td>\n",
       "    </tr>\n",
       "    <tr>\n",
       "      <th>1</th>\n",
       "      <td>train</td>\n",
       "      <td>579905</td>\n",
       "      <td>500000.0</td>\n",
       "      <td>01-09-2013 00:00</td>\n",
       "      <td>present</td>\n",
       "      <td>assistant manager</td>\n",
       "      <td>Indore</td>\n",
       "      <td>m</td>\n",
       "      <td>04-10-1989 00:00</td>\n",
       "      <td>85.4</td>\n",
       "      <td>...</td>\n",
       "      <td>-1</td>\n",
       "      <td>-1</td>\n",
       "      <td>-1</td>\n",
       "      <td>-1</td>\n",
       "      <td>-1</td>\n",
       "      <td>-0.7335</td>\n",
       "      <td>0.3789</td>\n",
       "      <td>1.2396</td>\n",
       "      <td>-0.10760</td>\n",
       "      <td>0.8637</td>\n",
       "    </tr>\n",
       "    <tr>\n",
       "      <th>2</th>\n",
       "      <td>train</td>\n",
       "      <td>810601</td>\n",
       "      <td>325000.0</td>\n",
       "      <td>01-06-2014 00:00</td>\n",
       "      <td>present</td>\n",
       "      <td>systems engineer</td>\n",
       "      <td>Chennai</td>\n",
       "      <td>f</td>\n",
       "      <td>03-08-1992 00:00</td>\n",
       "      <td>85.0</td>\n",
       "      <td>...</td>\n",
       "      <td>-1</td>\n",
       "      <td>-1</td>\n",
       "      <td>-1</td>\n",
       "      <td>-1</td>\n",
       "      <td>-1</td>\n",
       "      <td>0.2718</td>\n",
       "      <td>1.7109</td>\n",
       "      <td>0.1637</td>\n",
       "      <td>-0.86820</td>\n",
       "      <td>0.6721</td>\n",
       "    </tr>\n",
       "    <tr>\n",
       "      <th>3</th>\n",
       "      <td>train</td>\n",
       "      <td>267447</td>\n",
       "      <td>1100000.0</td>\n",
       "      <td>01-07-2011 00:00</td>\n",
       "      <td>present</td>\n",
       "      <td>senior software engineer</td>\n",
       "      <td>Gurgaon</td>\n",
       "      <td>m</td>\n",
       "      <td>05-12-1989 00:00</td>\n",
       "      <td>85.6</td>\n",
       "      <td>...</td>\n",
       "      <td>-1</td>\n",
       "      <td>-1</td>\n",
       "      <td>-1</td>\n",
       "      <td>-1</td>\n",
       "      <td>-1</td>\n",
       "      <td>0.0464</td>\n",
       "      <td>0.3448</td>\n",
       "      <td>-0.3440</td>\n",
       "      <td>-0.40780</td>\n",
       "      <td>-0.9194</td>\n",
       "    </tr>\n",
       "    <tr>\n",
       "      <th>4</th>\n",
       "      <td>train</td>\n",
       "      <td>343523</td>\n",
       "      <td>200000.0</td>\n",
       "      <td>01-03-2014 00:00</td>\n",
       "      <td>01-03-2015 00:00</td>\n",
       "      <td>get</td>\n",
       "      <td>Manesar</td>\n",
       "      <td>m</td>\n",
       "      <td>27-02-1991 00:00</td>\n",
       "      <td>78.0</td>\n",
       "      <td>...</td>\n",
       "      <td>-1</td>\n",
       "      <td>-1</td>\n",
       "      <td>-1</td>\n",
       "      <td>-1</td>\n",
       "      <td>-1</td>\n",
       "      <td>-0.8810</td>\n",
       "      <td>-0.2793</td>\n",
       "      <td>-1.0697</td>\n",
       "      <td>0.09163</td>\n",
       "      <td>-0.1295</td>\n",
       "    </tr>\n",
       "  </tbody>\n",
       "</table>\n",
       "<p>5 rows × 39 columns</p>\n",
       "</div>"
      ],
      "text/plain": [
       "  Unnamed: 0      ID     Salary               DOJ               DOL  \\\n",
       "0      train  203097   420000.0  01-06-2012 00:00           present   \n",
       "1      train  579905   500000.0  01-09-2013 00:00           present   \n",
       "2      train  810601   325000.0  01-06-2014 00:00           present   \n",
       "3      train  267447  1100000.0  01-07-2011 00:00           present   \n",
       "4      train  343523   200000.0  01-03-2014 00:00  01-03-2015 00:00   \n",
       "\n",
       "                Designation    JobCity Gender               DOB  10percentage  \\\n",
       "0   senior quality engineer  Bangalore      f  19-02-1990 00:00          84.3   \n",
       "1         assistant manager     Indore      m  04-10-1989 00:00          85.4   \n",
       "2          systems engineer    Chennai      f  03-08-1992 00:00          85.0   \n",
       "3  senior software engineer    Gurgaon      m  05-12-1989 00:00          85.6   \n",
       "4                       get    Manesar      m  27-02-1991 00:00          78.0   \n",
       "\n",
       "   ... ComputerScience  MechanicalEngg  ElectricalEngg TelecomEngg  CivilEngg  \\\n",
       "0  ...              -1              -1              -1          -1         -1   \n",
       "1  ...              -1              -1              -1          -1         -1   \n",
       "2  ...              -1              -1              -1          -1         -1   \n",
       "3  ...              -1              -1              -1          -1         -1   \n",
       "4  ...              -1              -1              -1          -1         -1   \n",
       "\n",
       "   conscientiousness agreeableness extraversion  nueroticism  \\\n",
       "0             0.9737        0.8128       0.5269      1.35490   \n",
       "1            -0.7335        0.3789       1.2396     -0.10760   \n",
       "2             0.2718        1.7109       0.1637     -0.86820   \n",
       "3             0.0464        0.3448      -0.3440     -0.40780   \n",
       "4            -0.8810       -0.2793      -1.0697      0.09163   \n",
       "\n",
       "   openess_to_experience  \n",
       "0                -0.4455  \n",
       "1                 0.8637  \n",
       "2                 0.6721  \n",
       "3                -0.9194  \n",
       "4                -0.1295  \n",
       "\n",
       "[5 rows x 39 columns]"
      ]
     },
     "execution_count": 2,
     "metadata": {},
     "output_type": "execute_result"
    }
   ],
   "source": [
    "train=pd.read_csv('train.csv')\n",
    "train.head()"
   ]
  },
  {
   "cell_type": "code",
   "execution_count": 3,
   "metadata": {},
   "outputs": [
    {
     "data": {
      "text/plain": [
       "Unnamed: 0                object\n",
       "ID                         int64\n",
       "Salary                   float64\n",
       "DOJ                       object\n",
       "DOL                       object\n",
       "Designation               object\n",
       "JobCity                   object\n",
       "Gender                    object\n",
       "DOB                       object\n",
       "10percentage             float64\n",
       "10board                   object\n",
       "12graduation               int64\n",
       "12percentage             float64\n",
       "12board                   object\n",
       "CollegeID                  int64\n",
       "CollegeTier                int64\n",
       "Degree                    object\n",
       "Specialization            object\n",
       "collegeGPA               float64\n",
       "CollegeCityID              int64\n",
       "CollegeCityTier            int64\n",
       "CollegeState              object\n",
       "GraduationYear             int64\n",
       "English                    int64\n",
       "Logical                    int64\n",
       "Quant                      int64\n",
       "Domain                   float64\n",
       "ComputerProgramming        int64\n",
       "ElectronicsAndSemicon      int64\n",
       "ComputerScience            int64\n",
       "MechanicalEngg             int64\n",
       "ElectricalEngg             int64\n",
       "TelecomEngg                int64\n",
       "CivilEngg                  int64\n",
       "conscientiousness        float64\n",
       "agreeableness            float64\n",
       "extraversion             float64\n",
       "nueroticism              float64\n",
       "openess_to_experience    float64\n",
       "dtype: object"
      ]
     },
     "execution_count": 3,
     "metadata": {},
     "output_type": "execute_result"
    }
   ],
   "source": [
    "train.dtypes"
   ]
  },
  {
   "cell_type": "code",
   "execution_count": 4,
   "metadata": {},
   "outputs": [
    {
     "data": {
      "text/plain": [
       "'01-09-2013 00:00'"
      ]
     },
     "execution_count": 4,
     "metadata": {},
     "output_type": "execute_result"
    }
   ],
   "source": [
    "train.iloc[1,3]"
   ]
  },
  {
   "cell_type": "code",
   "execution_count": 5,
   "metadata": {},
   "outputs": [],
   "source": [
    "train['JobCity']=train['JobCity'].str.replace('-1','Others')"
   ]
  },
  {
   "cell_type": "code",
   "execution_count": 6,
   "metadata": {},
   "outputs": [],
   "source": [
    "train['DOL']=train['DOL'].str.replace('present','01-12-2015 00:00')"
   ]
  },
  {
   "cell_type": "code",
   "execution_count": 7,
   "metadata": {},
   "outputs": [
    {
     "data": {
      "text/plain": [
       "Unnamed: 0                object\n",
       "ID                         int64\n",
       "Salary                   float64\n",
       "DOJ                       object\n",
       "DOL                       object\n",
       "Designation               object\n",
       "JobCity                   object\n",
       "Gender                    object\n",
       "DOB                       object\n",
       "10percentage             float64\n",
       "10board                   object\n",
       "12graduation               int64\n",
       "12percentage             float64\n",
       "12board                   object\n",
       "CollegeID                  int64\n",
       "CollegeTier                int64\n",
       "Degree                    object\n",
       "Specialization            object\n",
       "collegeGPA               float64\n",
       "CollegeCityID              int64\n",
       "CollegeCityTier            int64\n",
       "CollegeState              object\n",
       "GraduationYear             int64\n",
       "English                    int64\n",
       "Logical                    int64\n",
       "Quant                      int64\n",
       "Domain                   float64\n",
       "ComputerProgramming        int64\n",
       "ElectronicsAndSemicon      int64\n",
       "ComputerScience            int64\n",
       "MechanicalEngg             int64\n",
       "ElectricalEngg             int64\n",
       "TelecomEngg                int64\n",
       "CivilEngg                  int64\n",
       "conscientiousness        float64\n",
       "agreeableness            float64\n",
       "extraversion             float64\n",
       "nueroticism              float64\n",
       "openess_to_experience    float64\n",
       "dtype: object"
      ]
     },
     "execution_count": 7,
     "metadata": {},
     "output_type": "execute_result"
    }
   ],
   "source": [
    "train.dtypes"
   ]
  },
  {
   "cell_type": "code",
   "execution_count": 8,
   "metadata": {},
   "outputs": [],
   "source": [
    "train['DOL'] = pd.to_datetime(train['DOL'])\n",
    "train['DOJ'] = pd.to_datetime(train['DOJ'])\n",
    "train['DOB'] = pd.to_datetime(train['DOB'])\n",
    "train['EXP']=train['DOL']-train['DOJ']"
   ]
  },
  {
   "cell_type": "code",
   "execution_count": 9,
   "metadata": {},
   "outputs": [],
   "source": [
    "train['Age']=train['DOL']-train['DOB']\n",
    "train['Age']=train['Age'].astype(str)"
   ]
  },
  {
   "cell_type": "code",
   "execution_count": 10,
   "metadata": {},
   "outputs": [],
   "source": [
    "train['Experience']=((train['DOL']-train['DOJ']).map(lambda x: round(x.days/365,1)))"
   ]
  },
  {
   "cell_type": "code",
   "execution_count": 11,
   "metadata": {},
   "outputs": [],
   "source": [
    "train.loc[train['collegeGPA']<=10,'collegeGPA']*=9.5"
   ]
  },
  {
   "cell_type": "code",
   "execution_count": 12,
   "metadata": {},
   "outputs": [],
   "source": [
    "train['Age']=((train['DOL']-train['DOB']).map(lambda x: round(x.days/365)))"
   ]
  },
  {
   "cell_type": "code",
   "execution_count": 13,
   "metadata": {},
   "outputs": [],
   "source": [
    "train['Age']=train['Age'].astype(int)\n",
    "train['Experience']=train['Experience'].astype(int)"
   ]
  },
  {
   "cell_type": "code",
   "execution_count": null,
   "metadata": {},
   "outputs": [],
   "source": []
  },
  {
   "cell_type": "code",
   "execution_count": 14,
   "metadata": {},
   "outputs": [],
   "source": [
    "train.JobCity = train.JobCity.str.replace('banglore','bangalore')\n",
    "train.JobCity = train.JobCity.str.replace('delhi','new delhi')\n",
    "train.JobCity = train.JobCity.str.replace('new dehli','new delhi')\n",
    "train.JobCity = train.JobCity.str.replace('new delhi/ncr','new delhi')\n",
    "train.JobCity = train.JobCity.str.replace('ncr','new delhi')\n",
    "train.JobCity = train.JobCity.str.replace('navi mumbai','mumbai')\n",
    "train.JobCity = train.JobCity.str.replace('mumbai , hyderabad','mumbai')\n",
    "train.JobCity = train.JobCity.str.replace('new new delhi','new delhi')\n",
    "train.JobCity = train.JobCity.str.replace('asifabadbangalore','bangalore')\n",
    "train.JobCity = train.JobCity.str.replace('bengaluru','bangalore')\n",
    "train.JobCity = train.JobCity.str.replace('greater noida','noida')\n",
    "train.JobCity = train.JobCity.str.replace('nouda','noida')\n",
    "train.JobCity = train.JobCity.str.replace('banagalore','bangalore')\n",
    "train.JobCity = train.JobCity.str.replace('banaglore','bangalore')\n",
    "train.JobCity = train.JobCity.str.replace('a-64,sec-64,noida','noida')\n",
    "train.JobCity = train.JobCity.str.replace('technopark, trivandrum','trivandrum')\n",
    "train.JobCity = train.JobCity.str.replace('vizag','visakhapatnam')\n",
    "train.JobCity = train.JobCity.str.replace('vsakhapttnam','visakhapatnam')\n",
    "train.JobCity = train.JobCity.str.replace('thiruvananthapuram','trivandrum')\n",
    "train.JobCity = train.JobCity.str.replace('ambala city','ambala')\n",
    "train.JobCity = train.JobCity.str.replace('kudankulam ,tarapur','kundankulam')\n",
    "train.JobCity = train.JobCity.str.replace('gaziabaad','ghaziabad')\n",
    "train.JobCity = train.JobCity.str.replace('gajiabaad','ghaziabad')\n",
    "train.JobCity = train.JobCity.str.replace('bhubaneswar','bhubaneshwar')\n",
    "train.JobCity = train.JobCity.str.replace('bhubneshwar','bhubaneshwar')\n",
    "train.JobCity = train.JobCity.str.replace('guragaon','gurgaon')\n",
    "train.JobCity = train.JobCity.str.replace('gurgoan','gurgaon')\n",
    "train.JobCity = train.JobCity.str.replace('kolkata`','kolkata')\n",
    "train.JobCity = train.JobCity.str.replace('sonepat','sonipat')\n",
    "train.JobCity = train.JobCity.str.replace('baroda','vadodara')\n",
    "train.JobCity = train.JobCity.str.replace('hderabad','hyderabad')\n",
    "train.JobCity = train.JobCity.str.replace('pondi','pondy')\n",
    "train.JobCity = train.JobCity.str.replace('punchkula','panchkula')\n",
    "train.JobCity = train.JobCity.str.replace('muzzafarpur','muzaffarpur')\n",
    "train.JobCity = train.JobCity.str.replace('kochi/cochin, chennai and coimbatore','kochi/cochin')\n",
    "train.JobCity = train.JobCity.str.replace('nasikcity','nashik')\n",
    "train.JobCity = train.JobCity.str.replace('sahibabad','shahibabad')\n",
    "train.JobCity = train.JobCity.str.replace('punr','pune')\n",
    "train.JobCity = train.JobCity.str.replace('tirupati','tirupathi')\n",
    "train.JobCity = train.JobCity.str.replace('sadulpur,rajgarh,distt-churu,rajasthan','sadulpur')\n",
    "\n",
    "train.JobCity = train.JobCity.str.replace('bangalore','bangalore')\n",
    "train.JobCity = train.JobCity.str.replace('BAngalore','bangalore')\n",
    "train.JobCity = train.JobCity.str.replace('Banglore','bangalore')\n",
    "train.JobCity = train.JobCity.str.replace('BANGLORE','bangalore')\n",
    "train.JobCity = train.JobCity.str.replace(' bangalore','bangalore')\n",
    "train.JobCity = train.JobCity.str.replace('bangalore','bangalore')\n",
    "train.JobCity = train.JobCity.str.replace('banagalore','bangalore')\n",
    "train.JobCity = train.JobCity.str.replace('banaglore','bangalore')\n",
    "train.JobCity = train.JobCity.str.replace('bangalore ','bangalore')\n",
    "train.JobCity = train.JobCity.str.replace('BANGALORE','bangalore')\n",
    "train.JobCity = train.JobCity.str.replace('Banagalore','bangalore')\n",
    "train.JobCity = train.JobCity.str.replace( 'Bengaluru','bangalore') \n",
    "train.JobCity = train.JobCity.str.replace(  'Chennai, bangalore','bangalore')\n",
    "train.JobCity = train.JobCity.str.replace(  'bangalore ','bangalore')\n",
    "train.JobCity = train.JobCity.str.replace(  'Asifabadbangalore','bangalore')\n",
    "train.JobCity = train.JobCity.str.replace(  'banaglore'  ,'bangalore')\n",
    "train.JobCity = train.JobCity.str.replace('chennai,bangalore','bangalore')\n",
    "\n",
    "train.JobCity = train.JobCity.str.replace( ' chennai'  ,'chennai')\n",
    "train.JobCity = train.JobCity.str.replace(  'kochi/cochin,chennai and coimbatore' ,'chennai')\n",
    "train.JobCity = train.JobCity.str.replace( 'chennai '  ,'chennai')\n",
    "train.JobCity = train.JobCity.str.replace(  'chennai & mumbai' ,'chennai')\n",
    "train.JobCity = train.JobCity.str.replace(  'chennai& mumbai' ,'chennai')\n",
    "\n",
    "train.JobCity=train.JobCity.str.replace('Navi Mumbai','mumbai')\n",
    "train.JobCity = train.JobCity.str.replace('mumbai , hyderabad','mumbai')\n",
    "train.JobCity = train.JobCity.str.replace('THANE','mumbai')\n",
    "train.JobCity = train.JobCity.str.replace('Thane','mumbai')\n",
    "train.JobCity = train.JobCity.str.replace('Mumbai','mumbai')\n",
    "train.JobCity = train.JobCity.str.replace('MUMBAI','mumbai')\n",
    "train.JobCity = train.JobCity.str.replace(' mumbai','mumbai')\n",
    "train.JobCity = train.JobCity.str.replace('NAVI MUMBAI','mumbai')\n",
    "train.JobCity = train.JobCity.str.replace('Navi Mumbai , Hyderabad','mumbai')\n",
    "train.JobCity = train.JobCity.str.replace('thane','mumbai')\n",
    "train.JobCity = train.JobCity.str.replace('Khopoli','mumbai')\n",
    "train.JobCity = train.JobCity.str.replace('Navi mumbai','mumbai')\n",
    "train.JobCity = train.JobCity.str.replace(' Mumbai','mumbai')\n",
    "train.JobCity = train.JobCity.str.replace(' Mumbai','mumbai')\n",
    "train.JobCity = train.JobCity.str.replace('mumbai ','mumbai')\n",
    "train.JobCity = train.JobCity.str.replace('Navimumbai','mumbai')\n",
    "train.JobCity = train.JobCity.str.replace('mumbai , Hyderabad','mumbai')\n",
    "\n",
    "train.JobCity = train.JobCity.str.replace('hyderabad(bhadurpally)','hyderabad')\n",
    "train.JobCity = train.JobCity.str.replace('hderabad','hyderabad')\n",
    "train.JobCity = train.JobCity.str.replace('Hyderabad ','hyderabad')\n",
    "train.JobCity = train.JobCity.str.replace( 'navi mumbai , hyderabad','hyderabad')\n",
    "train.JobCity = train.JobCity.str.replace('hyderabad ' ,'hyderabad')\n",
    "train.JobCity = train.JobCity.str.replace('delhi','new delhi')\n",
    "train.JobCity = train.JobCity.str.replace('new dehli','new delhi')\n",
    "train.JobCity = train.JobCity.str.replace('new delhi/ncr','new delhi')\n",
    "train.JobCity = train.JobCity.str.replace('ncr','new delhi')\n",
    "train.JobCity = train.JobCity.str.replace('new new delhi','new delhi')\n",
    "train.JobCity = train.JobCity.str.replace('greater noida','new delhi')\n",
    "train.JobCity = train.JobCity.str.replace('nouda','new delhi')\n",
    "train.JobCity = train.JobCity.str.replace('a-64,sec-64,noida','new delhi')\n",
    "train.JobCity = train.JobCity.str.replace('noida','new delhi')\n",
    "train.JobCity = train.JobCity.str.replace('noida','new delhi')\n",
    "train.JobCity = train.JobCity.str.replace('gaziabaad','new delhi')\n",
    "train.JobCity = train.JobCity.str.replace('gajiabaad','new delhi')\n",
    "train.JobCity = train.JobCity.str.replace('ghaziabad','new delhi')\n",
    "train.JobCity = train.JobCity.str.replace('guragaon','new delhi')\n",
    "train.JobCity = train.JobCity.str.replace('gurgoan','new delhi')\n",
    "train.JobCity = train.JobCity.str.replace('gurgaon','new delhi')\n",
    "train.JobCity = train.JobCity.str.replace('new delhi - jaisalmer','new delhi')\n",
    "train.JobCity = train.JobCity.str.replace('new delhi ','new delhi')\n",
    "train.JobCity = train.JobCity.str.replace(' new delhi','new delhi')\n",
    "\n",
    "train.JobCity = train.JobCity.str.replace('kolkata ','kolkata')\n",
    "train.JobCity = train.JobCity.str.replace('maharajganj','north zone')\n",
    "\n",
    "train.JobCity = train.JobCity.str.replace( 'rewari','north zone')\n",
    "train.JobCity = train.JobCity.str.replace('panchkula','north zone')\n",
    "train.JobCity = train.JobCity.str.replace('lucknow','north zone')\n",
    "train.JobCity = train.JobCity.str.replace('una','north zone')\n",
    "train.JobCity = train.JobCity.str.replace('kanpur ','north zone')\n",
    "train.JobCity = train.JobCity.str.replace('faridabad','north zone')\n",
    "train.JobCity = train.JobCity.str.replace('haridwar','north zone')\n",
    "train.JobCity = train.JobCity.str.replace( 'unnao','north zone')\n",
    "train.JobCity = train.JobCity.str.replace('dehradun','north zone')\n",
    "train.JobCity = train.JobCity.str.replace('rudrapur','north zone')\n",
    "train.JobCity = train.JobCity.str.replace('dharamshala','north zone')\n",
    "train.JobCity = train.JobCity.str.replace('hissar','north zone')\n",
    "train.JobCity = train.JobCity.str.replace('gurga','north zone')\n",
    "train.JobCity = train.JobCity.str.replace('chandigarh','north zone')\n",
    "train.JobCity = train.JobCity.str.replace('pantnagar','north zone')\n",
    "train.JobCity = train.JobCity.str.replace( 'lucknow ','north zone')\n",
    "train.JobCity = train.JobCity.str.replace('ludhiana','north zone')\n",
    "train.JobCity = train.JobCity.str.replace( 'muzaffarnagar','north zone')\n",
    "train.JobCity = train.JobCity.str.replace('gagret','north zone')\n",
    "train.JobCity = train.JobCity.str.replace('indirapuram,new delhi','north zone')\n",
    "train.JobCity = train.JobCity.str.replace('bareli','north zone')\n",
    "train.JobCity = train.JobCity.str.replace('kanpur','north zone')\n",
    "train.JobCity = train.JobCity.str.replace('dharuhera','north zone')\n",
    "train.JobCity = train.JobCity.str.replace('meerut','north zone')\n",
    "train.JobCity = train.JobCity.str.replace('agra','north zone')\n",
    "train.JobCity = train.JobCity.str.replace('rohtak','north zone')\n",
    "train.JobCity = train.JobCity.str.replace('jaspur','north zone')\n",
    "train.JobCity = train.JobCity.str.replace('shimla','north zone')\n",
    "train.JobCity = train.JobCity.str.replace('jammu','north zone')\n",
    "train.JobCity = train.JobCity.str.replace( 'jhajjar','north zone')\n",
    "train.JobCity = train.JobCity.str.replace('nalagarh','north zone')\n",
    "train.JobCity = train.JobCity.str.replace( 'chandigarh ','north zone')\n",
    "train.JobCity = train.JobCity.str.replace('joshimath','north zone')\n",
    "train.JobCity = train.JobCity.str.replace('bathinda','north zone')\n",
    "train.JobCity = train.JobCity.str.replace('kala amb ','north zone')\n",
    "train.JobCity = train.JobCity.str.replace('karnal','north zone')\n",
    "train.JobCity = train.JobCity.str.replace('baddi hp','north zone')\n",
    "train.JobCity = train.JobCity.str.replace('bahadurgarh','north zone')\n",
    "train.JobCity = train.JobCity.str.replace('varanasi','north zone')\n",
    "train.JobCity = train.JobCity.str.replace( 'shahibabad','north zone')\n",
    "train.JobCity = train.JobCity.str.replace('ambala','north zone')\n",
    "train.JobCity = train.JobCity.str.replace( 'roorkee','north zone')\n",
    "train.JobCity = train.JobCity.str.replace('allahabad','north zone')\n",
    "train.JobCity = train.JobCity.str.replace('panchkula ','north zone')\n",
    "train.JobCity = train.JobCity.str.replace('jalandhar','north zone')\n",
    "train.JobCity = train.JobCity.str.replace('phagwara','north zone')\n",
    "train.JobCity = train.JobCity.str.replace('yamuna nagar','north zone')\n",
    "train.JobCity = train.JobCity.str.replace('sampla','north zone')\n",
    "train.JobCity = train.JobCity.str.replace('mainpuri','north zone')\n",
    "train.JobCity = train.JobCity.str.replace('rae bareli','north zone')\n",
    "train.JobCity = train.JobCity.str.replace( 'patiala','north zone')\n",
    "train.JobCity = train.JobCity.str.replace('gorakhpur','north zone')\n",
    "train.JobCity = train.JobCity.str.replace( 'rajpura','north zone')\n",
    "train.JobCity = train.JobCity.str.replace( 'haryana','north zone')\n",
    "train.JobCity = train.JobCity.str.replace( 'haryana','north zone')\n",
    "\n",
    "train.JobCity = train.JobCity.str.replace('kolkata ','kolkata')\n",
    "train.JobCity = train.JobCity.str.replace('bhubaneshwar','east zone')\n",
    "train.JobCity = train.JobCity.str.replace('dhanbad','east zone')\n",
    "train.JobCity = train.JobCity.str.replace('bhagalpur','east zone')\n",
    "train.JobCity = train.JobCity.str.replace('bankura','east zone')\n",
    "train.JobCity = train.JobCity.str.replace('siliguri ','east zone')\n",
    "train.JobCity = train.JobCity.str.replace('jamshedpur','east zone')\n",
    "train.JobCity = train.JobCity.str.replace('ranchi','east zone')\n",
    "train.JobCity = train.JobCity.str.replace('siliguri','east zone')\n",
    "train.JobCity = train.JobCity.str.replace('angul','east zone')\n",
    "train.JobCity = train.JobCity.str.replace('jowai','east zone')\n",
    "train.JobCity = train.JobCity.str.replace('siliguri ','east zone')\n",
    "train.JobCity = train.JobCity.str.replace('ganjam','east zone')\n",
    "train.JobCity = train.JobCity.str.replace('chandrapur','east zone')\n",
    "train.JobCity = train.JobCity.str.replace('patna','east zone')\n",
    "train.JobCity = train.JobCity.str.replace('jaspur','east zone')\n",
    "train.JobCity = train.JobCity.str.replace('burdwan','east zone')\n",
    "train.JobCity = train.JobCity.str.replace('east zone ','east zone')\n",
    "train.JobCity = train.JobCity.str.replace('nagari','east zone')\n",
    "train.JobCity = train.JobCity.str.replace('orissa','east zone')\n",
    "train.JobCity = train.JobCity.str.replace('durgapur','east zone')\n",
    "train.JobCity = train.JobCity.str.replace('rayagada, odisha','east zone')\n",
    "train.JobCity = train.JobCity.str.replace('howrah','east zone')\n",
    "train.JobCity = train.JobCity.str.replace('bihar','east zone')\n",
    "train.JobCity = train.JobCity.str.replace('baripada','east zone')\n",
    "train.JobCity = train.JobCity.str.replace('guwahati','east zone')\n",
    "train.JobCity = train.JobCity.str.replace('rourkela','east zone')\n",
    "train.JobCity = train.JobCity.str.replace('haldia','east zone')\n",
    "\n",
    "train.JobCity = train.JobCity.str.replace('mangalore','south zone')\n",
    "train.JobCity = train.JobCity.str.replace('mysore','south zone')\n",
    "train.JobCity = train.JobCity.str.replace('trivandrum' ,'south zone')\n",
    "train.JobCity = train.JobCity.str.replace('coimbatore' ,'south zone')\n",
    "train.JobCity = train.JobCity.str.replace('visakhapatnam','south zone')\n",
    "train.JobCity = train.JobCity.str.replace('kochi/cochin','south zone')\n",
    "train.JobCity = train.JobCity.str.replace('mysore ','south zone')\n",
    "train.JobCity = train.JobCity.str.replace('kochi','south zone')\n",
    "train.JobCity = train.JobCity.str.replace('tirupathi' ,'south zone')\n",
    "train.JobCity = train.JobCity.str.replace('tirunelvelli' ,'south zone')\n",
    "train.JobCity = train.JobCity.str.replace('tornagallu' ,'south zone')\n",
    "train.JobCity = train.JobCity.str.replace('madurai' ,'south zone')\n",
    "train.JobCity = train.JobCity.str.replace('cheyyar','south zone')\n",
    "train.JobCity = train.JobCity.str.replace(' ariyalur' ,'south zone')\n",
    "train.JobCity = train.JobCity.str.replace('calicut','south zone')\n",
    "train.JobCity = train.JobCity.str.replace('miryalaguda','south zone')\n",
    "train.JobCity = train.JobCity.str.replace('trichy','south zone')\n",
    "train.JobCity = train.JobCity.str.replace('kundankulam','south zone')\n",
    "train.JobCity = train.JobCity.str.replace('ongole','south zone')\n",
    "train.JobCity = train.JobCity.str.replace('ernakulam','south zone')\n",
    "train.JobCity = train.JobCity.str.replace('muvattupuzha','south zone')\n",
    "train.JobCity = train.JobCity.str.replace('orissa','south zone')\n",
    "train.JobCity = train.JobCity.str.replace('mettur, tamil nadu ','south zone')\n",
    "train.JobCity = train.JobCity.str.replace('kurnool','south zone')\n",
    "train.JobCity = train.JobCity.str.replace('rayagada, odisha','south zone')\n",
    "train.JobCity = train.JobCity.str.replace('nellore','south zone')\n",
    "train.JobCity = train.JobCity.str.replace('vellore','south zone')\n",
    "train.JobCity = train.JobCity.str.replace('pondycherry','south zone')\n",
    "train.JobCity = train.JobCity.str.replace('secunderabad','south zone')\n",
    "train.JobCity = train.JobCity.str.replace('gorakhpur','south zone')\n",
    "train.JobCity = train.JobCity.str.replace('gorakhpur','south zone')\n",
    "train.JobCity = train.JobCity.str.replace('hubli','south zone')\n",
    "train.JobCity = train.JobCity.str.replace('kakinada','south zone')\n",
    "train.JobCity = train.JobCity.str.replace('gulbarga','south zone')\n",
    "train.JobCity = train.JobCity.str.replace('pondy','south zone')\n",
    "train.JobCity = train.JobCity.str.replace('keral','south zone')\n",
    "train.JobCity = train.JobCity.str.replace('bellary','south zone')\n",
    "train.JobCity = train.JobCity.str.replace('hospete','south zone')\n",
    "train.JobCity = train.JobCity.str.replace('vandavasi','south zone')\n",
    "train.JobCity = train.JobCity.str.replace('salem','south zone')\n",
    "train.JobCity = train.JobCity.str.replace('dharmapuri','south zone')\n",
    "train.JobCity = train.JobCity.str.replace('belgaum','south zone')\n",
    "train.JobCity = train.JobCity.str.replace('nagari','south zone')\n",
    "train.JobCity = train.JobCity.str.replace('trichur','south zone')\n",
    "\n",
    "train.JobCity = train.JobCity.str.replace('indore','Central Zone')\n",
    "train.JobCity = train.JobCity.str.replace('bhopal','Central Zone')\n",
    "train.JobCity = train.JobCity.str.replace('raigarh','Central Zone')\n",
    "train.JobCity = train.JobCity.str.replace('jabalpur','Central Zone')\n",
    "train.JobCity = train.JobCity.str.replace('jagdalpur','Central Zone')\n",
    "train.JobCity = train.JobCity.str.replace('gwalior','Central Zone')\n",
    "train.JobCity = train.JobCity.str.replace('bareli','Central Zone')\n",
    "train.JobCity = train.JobCity.str.replace('bilaspur','Central Zone')\n",
    "train.JobCity = train.JobCity.str.replace('shahdol','Central Zone')\n",
    "train.JobCity = train.JobCity.str.replace('bhopal ','Central Zone')\n",
    "train.JobCity = train.JobCity.str.replace('bhilai','Central Zone')\n",
    "train.JobCity = train.JobCity.str.replace('singaruli','Central Zone')\n",
    "\n",
    "train.JobCity = train.JobCity.str.replace('Jaipur','West Zone')\n",
    "train.JobCity = train.JobCity.str.replace('jaipur','West Zone')\n",
    "train.JobCity = train.JobCity.str.replace('ahmedabad','West Zone')\n",
    "train.JobCity = train.JobCity.str.replace('nagpur','West Zone')\n",
    "train.JobCity = train.JobCity.str.replace('nashik','West Zone')\n",
    "train.JobCity = train.JobCity.str.replace('kolhapur','West Zone')\n",
    "train.JobCity = train.JobCity.str.replace('rajasthan','West Zone')\n",
    "train.JobCity = train.JobCity.str.replace('bhiwadi','West Zone')\n",
    "train.JobCity = train.JobCity.str.replace('rajkot','West Zone')\n",
    "train.JobCity = train.JobCity.str.replace('daman and diu','West Zone')\n",
    "train.JobCity = train.JobCity.str.replace('gandhi nagar','West Zone')\n",
    "train.JobCity = train.JobCity.str.replace('beawar','West Zone')\n",
    "train.JobCity = train.JobCity.str.replace('alwar','West Zone')\n",
    "train.JobCity = train.JobCity.str.replace('jodhpur','West Zone')\n",
    "train.JobCity = train.JobCity.str.replace('udaipur','West Zone')\n",
    "train.JobCity = train.JobCity.str.replace('aurangabad','West Zone')\n",
    "train.JobCity = train.JobCity.str.replace('neemrana','West Zone')\n",
    "train.JobCity = train.JobCity.str.replace('ahmednagar','West Zone')\n",
    "train.JobCity = train.JobCity.str.replace('gandhinagar','West Zone')\n",
    "train.JobCity = train.JobCity.str.replace('sadulpur','West Zone')\n",
    "train.JobCity = train.JobCity.str.replace('chandrapur','West Zone')\n",
    "train.JobCity = train.JobCity.str.replace('nanded','West Zone')\n",
    "train.JobCity = train.JobCity.str.replace('jaspur','West Zone')\n",
    "train.JobCity = train.JobCity.str.replace('bharuch','West Zone')\n",
    "train.JobCity = train.JobCity.str.replace('ratnagiri','West Zone')\n",
    "train.JobCity = train.JobCity.str.replace('jamnagar','West Zone')\n",
    "train.JobCity = train.JobCity.str.replace('kota','West Zone')\n",
    "train.JobCity = train.JobCity.str.replace('surat','West Zone')\n",
    "train.JobCity = train.JobCity.str.replace('khopoli','West Zone')\n",
    "train.JobCity = train.JobCity.str.replace('vapi','West Zone')\n",
    "train.JobCity = train.JobCity.str.replace('pilani','West Zone')\n",
    "train.JobCity = train.JobCity.str.replace('dausa','West Zone')\n",
    "train.JobCity = train.JobCity.str.replace('latur (maharashtra )','West Zone')\n",
    "train.JobCity = train.JobCity.str.replace('karad','West Zone')\n",
    "train.JobCity = train.JobCity.str.replace('bundi','West Zone')\n",
    "train.JobCity = train.JobCity.str.replace('vadodara','West Zone')\n",
    "train.JobCity = train.JobCity.str.replace( 'mohali','north zone')\n",
    "\n",
    "train.JobCity = train.JobCity.str.replace('muzaffarpur','east zone')\n",
    "train.JobCity = train.JobCity.str.replace('visakhaeast zonem','east zone')\n",
    "train.JobCity = train.JobCity.str.replace('vijayawada','south zone')\n",
    "train.JobCity = train.JobCity.str.replace('raipur','Central Zone')\n",
    "train.JobCity = train.JobCity.str.replace( 'bulandshahar','north zone')\n",
    "train.JobCity = train.JobCity.str.replace( 'sonipat','north zone')\n",
    "train.JobCity = train.JobCity.str.replace('sambalpur','east zone')\n",
    "train.JobCity = train.JobCity.str.replace('bikaner','West Zone')\n",
    "train.JobCity = train.JobCity.str.replace(  'gonda','north zone')\n",
    "train.JobCity = train.JobCity.str.replace('kharagpur','east zone')\n",
    "train.JobCity = train.JobCity.str.replace(  'yamnorth zone nagar','north zone')\n",
    "\n",
    "train.JobCity = train.JobCity.str.replace(  'manesar','north zone')\n",
    "train.JobCity = train.JobCity.str.replace(  'jhansi','north zone')\n",
    "train.JobCity = train.JobCity.str.replace(   'rae north zone','north zone')\n",
    "train.JobCity = train.JobCity.str.replace(   'north zone ','north zone')\n",
    "train.JobCity = train.JobCity.str.replace('south zone ','south zone')\n",
    "train.JobCity = train.JobCity.str.replace( 'West Zone ','West Zone')\n",
    "train.JobCity = train.JobCity.str.replace('Central Zone ','Central Zone')\n",
    "train.JobCity = train.JobCity.str.replace( 'latur (maharashtra )','West Zone')\n",
    "train.JobCity = train.JobCity.str.replace('india','Central Zone')\n",
    "\n",
    "train.JobCity = train.JobCity.str.replace( 'australia','Abroad')\n",
    "train.JobCity = train.JobCity.str.replace( 'dubai','Abroad')\n",
    "train.JobCity = train.JobCity.str.replace( 'am','Abroad')\n",
    "train.JobCity = train.JobCity.str.replace( 'al jubail,saudi arabia','Abroad')\n",
    "train.JobCity = train.JobCity.str.replace( 'kalmar, sweden','Abroad')\n",
    "train.JobCity = train.JobCity.str.replace( 'jeddah saudi arabia','Abroad')\n",
    "train.JobCity = train.JobCity.str.replace( 'johannesburg','Abroad')\n",
    "train.JobCity = train.JobCity.str.replace(  'london','Abroad')\n",
    "train.JobCity = train.JobCity.str.replace(  'ras al khaimah','Abroad')\n",
    "train.JobCity = train.JobCity.str.replace( 'dammam','Abroad')\n",
    "train.JobCity = train.JobCity.str.replace(  'dAbroadmAbroad','Abroad')\n",
    "train.JobCity = train.JobCity.str.replace(  'dAbroadmAbroad','Abroad')"
   ]
  },
  {
   "cell_type": "code",
   "execution_count": 15,
   "metadata": {},
   "outputs": [],
   "source": [
    "train.JobCity = train.JobCity.str.replace('pune ' ,'pune')\n",
    "\n",
    "train.JobCity = train.JobCity.str.replace('asansol' ,'kolkata')"
   ]
  },
  {
   "cell_type": "code",
   "execution_count": 16,
   "metadata": {},
   "outputs": [],
   "source": [
    "train.JobCity = train.JobCity.str.replace( ' pune','pune')"
   ]
  },
  {
   "cell_type": "code",
   "execution_count": 17,
   "metadata": {},
   "outputs": [
    {
     "data": {
      "text/plain": [
       "count    3.998000e+03\n",
       "mean     3.076998e+05\n",
       "std      2.127375e+05\n",
       "min      3.500000e+04\n",
       "25%      1.800000e+05\n",
       "50%      3.000000e+05\n",
       "75%      3.700000e+05\n",
       "max      4.000000e+06\n",
       "Name: Salary, dtype: float64"
      ]
     },
     "execution_count": 17,
     "metadata": {},
     "output_type": "execute_result"
    }
   ],
   "source": [
    "train['Salary'].describe()"
   ]
  },
  {
   "cell_type": "code",
   "execution_count": 18,
   "metadata": {},
   "outputs": [],
   "source": [
    "train.Specialization = train.Specialization.str.replace('computer engineering' ,'computers')\n",
    "train.Specialization = train.Specialization.str.replace('information technology' ,'computers')\n",
    "train.Specialization = train.Specialization.str.replace('computer science & engineering' ,'computers')\n",
    "train.Specialization = train.Specialization.str.replace('computer application' ,'computers')\n",
    "train.Specialization = train.Specialization.str.replace('electronics and computer engineering' ,'computers')\n",
    "train.Specialization = train.Specialization.str.replace('information technology' ,'computers')\n",
    "train.Specialization = train.Specialization.str.replace('information science engineering' ,'computers')\n",
    "train.Specialization = train.Specialization.str.replace('computer science and technology' ,'computers')\n",
    "train.Specialization = train.Specialization.str.replace('computer and communication engineering' ,'computers')\n",
    "train.Specialization = train.Specialization.str.replace('information & communication technology' ,'computers')\n",
    "train.Specialization = train.Specialization.str.replace('information science' ,'computers')\n",
    "train.Specialization = train.Specialization.str.replace('computer networking' ,'computers')\n",
    "train.Specialization = train.Specialization.str.replace('computer science' ,'computers')\n",
    "\n",
    "train.Specialization = train.Specialization.str.replace('electronics and communication engineering' ,'etrx')\n",
    "train.Specialization = train.Specialization.str.replace('electronics and electrical engineering' ,'etrx')\n",
    "train.Specialization = train.Specialization.str.replace('electronics & telecommunications' ,'etrx')\n",
    "train.Specialization = train.Specialization.str.replace('electrical engineering' ,'etrx')\n",
    "train.Specialization = train.Specialization.str.replace('applied electronics and instrumentation' ,'etrx')\n",
    "train.Specialization = train.Specialization.str.replace('electronics & instrumentation eng' ,'etrx')\n",
    "train.Specialization = train.Specialization.str.replace('electronics and instrumentation engineering' ,'etrx')\n",
    "train.Specialization = train.Specialization.str.replace('electronics engineering' ,'etrx')\n",
    "train.Specialization = train.Specialization.str.replace('embedded systems technology' ,'etrx')\n",
    "train.Specialization = train.Specialization.str.replace('electrical and power engineering' ,'etrx')\n",
    "train.Specialization = train.Specialization.str.replace('mechatronics' ,'etrx')\n",
    "train.Specialization = train.Specialization.str.replace('telecommunication engineering','etrx')\n",
    "train.Specialization = train.Specialization.str.replace('electronics' ,'etrx')\n",
    "\n",
    "train.Specialization = train.Specialization.str.replace('mechanical engineering','mech')\n",
    "train.Specialization = train.Specialization.str.replace('mechanical and automation','mech')\n",
    "train.Specialization = train.Specialization.str.replace('metallurgical engineering','mech')\n",
    "train.Specialization = train.Specialization.str.replace('ceramic engineering','mech')\n",
    "train.Specialization = train.Specialization.str.replace('mechatronics','mech')\n",
    "train.Specialization = train.Specialization.str.replace('mechanical & production engineering','mech')\n",
    "train.Specialization = train.Specialization.str.replace('internal combustion engine','mech')"
   ]
  },
  {
   "cell_type": "code",
   "execution_count": 19,
   "metadata": {},
   "outputs": [],
   "source": [
    "train.Specialization = train.Specialization.str.replace('industrial & production engineering','mech')\n",
    "train.Specialization = train.Specialization.str.replace('automobile/automotive engineering','mech')\n",
    "train.Specialization = train.Specialization.str.replace('industrial engineering','mech')\n",
    "train.Specialization = train.Specialization.str.replace('power systems and automation','mech')\n",
    "train.Specialization = train.Specialization.str.replace('industrial & management engineering','mech')\n",
    "\n",
    "train.Specialization = train.Specialization.str.replace('control and instrumentation engineering','instrumentation engineering')\n",
    "train.Specialization = train.Specialization.str.replace('polymer technology','chemical engineering')"
   ]
  },
  {
   "cell_type": "code",
   "execution_count": 20,
   "metadata": {},
   "outputs": [],
   "source": [
    "train.Specialization = train.Specialization.str.replace('etrx and computers' ,'etrx')"
   ]
  },
  {
   "cell_type": "code",
   "execution_count": 21,
   "metadata": {},
   "outputs": [],
   "source": [
    "train = train[((train.GraduationYear != 2016)&(train.GraduationYear != 2017)&(train.GraduationYear != 0))]"
   ]
  },
  {
   "cell_type": "markdown",
   "metadata": {},
   "source": [
    "# We have converted Salary of Candidates who have less than 1Lakh as they might have incorrectly inputed their Annual Salary as Monthly Salary"
   ]
  },
  {
   "cell_type": "code",
   "execution_count": 22,
   "metadata": {},
   "outputs": [],
   "source": [
    "train.loc[(train.Salary<=100000),'Salary']*=12"
   ]
  },
  {
   "cell_type": "code",
   "execution_count": 23,
   "metadata": {},
   "outputs": [],
   "source": [
    "train['English']=((train['English']*100)/875)\n",
    "train['Quant']=((train['Quant']*100)/900)\n",
    "train['Logical']=((train['Logical']*100)/795)"
   ]
  },
  {
   "cell_type": "code",
   "execution_count": 24,
   "metadata": {},
   "outputs": [],
   "source": [
    "train1=train['English']+train['Quant']+train['Logical']\n",
    "train['Cognitive Test Scores']=train1/3\n"
   ]
  },
  {
   "cell_type": "code",
   "execution_count": 25,
   "metadata": {},
   "outputs": [],
   "source": [
    "train=train.drop(columns=['Logical','English','Quant'])"
   ]
  },
  {
   "cell_type": "code",
   "execution_count": 26,
   "metadata": {},
   "outputs": [],
   "source": [
    "train['Domain']=train['Domain'].replace(to_replace=-1,value=0.622643)"
   ]
  },
  {
   "cell_type": "code",
   "execution_count": 27,
   "metadata": {},
   "outputs": [
    {
     "data": {
      "text/plain": [
       "State Board    2291\n",
       "CBSE           1409\n",
       "ICSE            282\n",
       "Name: 10 Board, dtype: int64"
      ]
     },
     "execution_count": 27,
     "metadata": {},
     "output_type": "execute_result"
    }
   ],
   "source": [
    "list10=[] #cleaning and classification process for 10 Board feature\n",
    "for i in train['10board']:\n",
    "    if ('icse' in i):\n",
    "        list10.append('ICSE')\n",
    "    elif('cbse' in i):\n",
    "        list10.append('CBSE')\n",
    "    elif('central board of secondary education' in i):\n",
    "        list10.append('CBSE')\n",
    "    elif('delhi' in i):\n",
    "        list10.append('CBSE')\n",
    "    elif('cbsc' in i):\n",
    "        list10.append('CBSE')\n",
    "    else:\n",
    "        list10.append('State Board')\n",
    "train['10 Board']=list10\n",
    "train['10 Board'].value_counts()    "
   ]
  },
  {
   "cell_type": "code",
   "execution_count": 28,
   "metadata": {},
   "outputs": [
    {
     "data": {
      "text/plain": [
       "State Board       2480\n",
       "CBSE              1392\n",
       "ISC                 48\n",
       "University          32\n",
       "Technical           15\n",
       "Diploma              8\n",
       "National Board       7\n",
       "Name: 12 Board, dtype: int64"
      ]
     },
     "execution_count": 28,
     "metadata": {},
     "output_type": "execute_result"
    }
   ],
   "source": [
    "list1=[]\n",
    "for i in train['12board']:\n",
    "    if ('isc' in i):\n",
    "        list1.append('ISC')\n",
    "    elif('cbse' in i):\n",
    "        list1.append('CBSE')\n",
    "    elif('nios' in i):\n",
    "        list1.append('National Board')\n",
    "    elif('diploma' in i):\n",
    "        list1.append('Diploma')\n",
    "    elif('technical' in i):\n",
    "        list1.append('Technical')\n",
    "    elif('university' in i):\n",
    "        list1.append('University')\n",
    "    else:\n",
    "        list1.append('State Board')\n",
    "train['12 Board']=list1\n",
    "train['12 Board'].value_counts()"
   ]
  },
  {
   "cell_type": "code",
   "execution_count": 29,
   "metadata": {},
   "outputs": [
    {
     "data": {
      "text/plain": [
       "0    0.644560\n",
       "1    0.328220\n",
       "2    0.390060\n",
       "3   -0.256000\n",
       "4   -0.453574\n",
       "Name: Personality Trait Score, dtype: float64"
      ]
     },
     "execution_count": 29,
     "metadata": {},
     "output_type": "execute_result"
    }
   ],
   "source": [
    "train['Personality Trait Score']=((train['conscientiousness']+train['agreeableness']+train['extraversion']+train['nueroticism']+train['openess_to_experience'])/5)\n",
    "train['Personality Trait Score'].head() #all personality traits scores were added and clubbed together to get a final personality score value"
   ]
  },
  {
   "cell_type": "code",
   "execution_count": 30,
   "metadata": {},
   "outputs": [],
   "source": [
    "l=[]\n",
    "for i in train['Designation']:\n",
    "    if ('senior' in i and 'engineer' not in i):\n",
    "        l.append('senior')\n",
    "    elif('trainee'in i and 'engineer' not in i):\n",
    "        l.append('trainee')\n",
    "    elif('engineer' in i and 'senior' not in i):\n",
    "        l.append('engineer')\n",
    "    elif('associate' in i and 'senior' not in i):\n",
    "        l.append('associate')\n",
    "    elif('developer' in i and 'senior' not in i):\n",
    "        l.append('developer')\n",
    "    elif('manager' in i and 'senior' not in i):\n",
    "        l.append('manager')\n",
    "    elif('analyst' in i):\n",
    "        l.append('analyst')\n",
    "    elif('consultant' in i):\n",
    "        l.append('consultant')\n",
    "    elif('executive' in i):\n",
    "        l.append('executive')\n",
    "    elif('designer' in i):\n",
    "        l.append('designer')\n",
    "    else:\n",
    "        l.append('others')\n"
   ]
  },
  {
   "cell_type": "code",
   "execution_count": 31,
   "metadata": {},
   "outputs": [
    {
     "data": {
      "text/plain": [
       "engineer      1987\n",
       "developer      665\n",
       "others         537\n",
       "analyst        401\n",
       "manager        122\n",
       "associate       66\n",
       "executive       62\n",
       "trainee         57\n",
       "senior          43\n",
       "designer        23\n",
       "consultant      19\n",
       "Name: Designations, dtype: int64"
      ]
     },
     "execution_count": 31,
     "metadata": {},
     "output_type": "execute_result"
    }
   ],
   "source": [
    "train['Designations']=l\n",
    "train['Designations'].value_counts()"
   ]
  },
  {
   "cell_type": "code",
   "execution_count": 32,
   "metadata": {},
   "outputs": [
    {
     "data": {
      "text/plain": [
       "Index(['ID', 'Salary', 'JobCity', 'Gender', '10percentage', '12graduation',\n",
       "       '12percentage', '12board', 'CollegeTier', 'Degree', 'Specialization',\n",
       "       'collegeGPA', 'CollegeCityID', 'CollegeCityTier', 'GraduationYear',\n",
       "       'Domain', 'Age', 'Experience', 'Cognitive Test Scores', '10 Board',\n",
       "       '12 Board', 'Personality Trait Score', 'Designations'],\n",
       "      dtype='object')"
      ]
     },
     "execution_count": 32,
     "metadata": {},
     "output_type": "execute_result"
    }
   ],
   "source": [
    "train=train.drop(columns=['10board','conscientiousness', 'agreeableness', 'extraversion', 'nueroticism',\n",
    "       'openess_to_experience','Unnamed: 0','DOJ', 'DOL','Designation', 'DOB','CollegeID','CollegeState','ComputerProgramming', 'ElectronicsAndSemicon',\n",
    "       'ComputerScience', 'MechanicalEngg', 'ElectricalEngg', 'TelecomEngg',\n",
    "       'CivilEngg','EXP'],axis=1)\n",
    "train.columns"
   ]
  },
  {
   "cell_type": "code",
   "execution_count": 33,
   "metadata": {},
   "outputs": [
    {
     "data": {
      "text/html": [
       "<div>\n",
       "<style scoped>\n",
       "    .dataframe tbody tr th:only-of-type {\n",
       "        vertical-align: middle;\n",
       "    }\n",
       "\n",
       "    .dataframe tbody tr th {\n",
       "        vertical-align: top;\n",
       "    }\n",
       "\n",
       "    .dataframe thead th {\n",
       "        text-align: right;\n",
       "    }\n",
       "</style>\n",
       "<table border=\"1\" class=\"dataframe\">\n",
       "  <thead>\n",
       "    <tr style=\"text-align: right;\">\n",
       "      <th></th>\n",
       "      <th>ID</th>\n",
       "      <th>Salary</th>\n",
       "      <th>JobCity</th>\n",
       "      <th>Gender</th>\n",
       "      <th>10percentage</th>\n",
       "      <th>12graduation</th>\n",
       "      <th>12percentage</th>\n",
       "      <th>12board</th>\n",
       "      <th>CollegeTier</th>\n",
       "      <th>Degree</th>\n",
       "      <th>...</th>\n",
       "      <th>CollegeCityTier</th>\n",
       "      <th>GraduationYear</th>\n",
       "      <th>Domain</th>\n",
       "      <th>Age</th>\n",
       "      <th>Experience</th>\n",
       "      <th>Cognitive Test Scores</th>\n",
       "      <th>10 Board</th>\n",
       "      <th>12 Board</th>\n",
       "      <th>Personality Trait Score</th>\n",
       "      <th>Designations</th>\n",
       "    </tr>\n",
       "  </thead>\n",
       "  <tbody>\n",
       "    <tr>\n",
       "      <th>0</th>\n",
       "      <td>203097</td>\n",
       "      <td>420000.0</td>\n",
       "      <td>Bangalore</td>\n",
       "      <td>f</td>\n",
       "      <td>84.3</td>\n",
       "      <td>2007</td>\n",
       "      <td>95.8</td>\n",
       "      <td>board of intermediate education,ap</td>\n",
       "      <td>2</td>\n",
       "      <td>B.Tech/B.E.</td>\n",
       "      <td>...</td>\n",
       "      <td>0</td>\n",
       "      <td>2011</td>\n",
       "      <td>0.635979</td>\n",
       "      <td>25</td>\n",
       "      <td>3</td>\n",
       "      <td>63.591794</td>\n",
       "      <td>State Board</td>\n",
       "      <td>State Board</td>\n",
       "      <td>0.644560</td>\n",
       "      <td>others</td>\n",
       "    </tr>\n",
       "    <tr>\n",
       "      <th>1</th>\n",
       "      <td>579905</td>\n",
       "      <td>500000.0</td>\n",
       "      <td>Indore</td>\n",
       "      <td>m</td>\n",
       "      <td>85.4</td>\n",
       "      <td>2007</td>\n",
       "      <td>85.0</td>\n",
       "      <td>cbse</td>\n",
       "      <td>2</td>\n",
       "      <td>B.Tech/B.E.</td>\n",
       "      <td>...</td>\n",
       "      <td>0</td>\n",
       "      <td>2012</td>\n",
       "      <td>0.960603</td>\n",
       "      <td>26</td>\n",
       "      <td>2</td>\n",
       "      <td>80.941599</td>\n",
       "      <td>CBSE</td>\n",
       "      <td>CBSE</td>\n",
       "      <td>0.328220</td>\n",
       "      <td>manager</td>\n",
       "    </tr>\n",
       "    <tr>\n",
       "      <th>2</th>\n",
       "      <td>810601</td>\n",
       "      <td>325000.0</td>\n",
       "      <td>Chennai</td>\n",
       "      <td>f</td>\n",
       "      <td>85.0</td>\n",
       "      <td>2010</td>\n",
       "      <td>68.2</td>\n",
       "      <td>cbse</td>\n",
       "      <td>2</td>\n",
       "      <td>B.Tech/B.E.</td>\n",
       "      <td>...</td>\n",
       "      <td>0</td>\n",
       "      <td>2014</td>\n",
       "      <td>0.450877</td>\n",
       "      <td>23</td>\n",
       "      <td>1</td>\n",
       "      <td>59.983428</td>\n",
       "      <td>CBSE</td>\n",
       "      <td>CBSE</td>\n",
       "      <td>0.390060</td>\n",
       "      <td>engineer</td>\n",
       "    </tr>\n",
       "    <tr>\n",
       "      <th>3</th>\n",
       "      <td>267447</td>\n",
       "      <td>1100000.0</td>\n",
       "      <td>Gurgaon</td>\n",
       "      <td>m</td>\n",
       "      <td>85.6</td>\n",
       "      <td>2007</td>\n",
       "      <td>83.6</td>\n",
       "      <td>cbse</td>\n",
       "      <td>1</td>\n",
       "      <td>B.Tech/B.E.</td>\n",
       "      <td>...</td>\n",
       "      <td>1</td>\n",
       "      <td>2011</td>\n",
       "      <td>0.974396</td>\n",
       "      <td>26</td>\n",
       "      <td>4</td>\n",
       "      <td>71.866926</td>\n",
       "      <td>CBSE</td>\n",
       "      <td>CBSE</td>\n",
       "      <td>-0.256000</td>\n",
       "      <td>others</td>\n",
       "    </tr>\n",
       "    <tr>\n",
       "      <th>4</th>\n",
       "      <td>343523</td>\n",
       "      <td>200000.0</td>\n",
       "      <td>Manesar</td>\n",
       "      <td>m</td>\n",
       "      <td>78.0</td>\n",
       "      <td>2008</td>\n",
       "      <td>76.8</td>\n",
       "      <td>cbse</td>\n",
       "      <td>2</td>\n",
       "      <td>B.Tech/B.E.</td>\n",
       "      <td>...</td>\n",
       "      <td>0</td>\n",
       "      <td>2012</td>\n",
       "      <td>0.124502</td>\n",
       "      <td>24</td>\n",
       "      <td>1</td>\n",
       "      <td>64.189578</td>\n",
       "      <td>CBSE</td>\n",
       "      <td>CBSE</td>\n",
       "      <td>-0.453574</td>\n",
       "      <td>others</td>\n",
       "    </tr>\n",
       "  </tbody>\n",
       "</table>\n",
       "<p>5 rows × 23 columns</p>\n",
       "</div>"
      ],
      "text/plain": [
       "       ID     Salary    JobCity Gender  10percentage  12graduation  \\\n",
       "0  203097   420000.0  Bangalore      f          84.3          2007   \n",
       "1  579905   500000.0     Indore      m          85.4          2007   \n",
       "2  810601   325000.0    Chennai      f          85.0          2010   \n",
       "3  267447  1100000.0    Gurgaon      m          85.6          2007   \n",
       "4  343523   200000.0    Manesar      m          78.0          2008   \n",
       "\n",
       "   12percentage                             12board  CollegeTier       Degree  \\\n",
       "0          95.8  board of intermediate education,ap            2  B.Tech/B.E.   \n",
       "1          85.0                                cbse            2  B.Tech/B.E.   \n",
       "2          68.2                                cbse            2  B.Tech/B.E.   \n",
       "3          83.6                                cbse            1  B.Tech/B.E.   \n",
       "4          76.8                                cbse            2  B.Tech/B.E.   \n",
       "\n",
       "   ... CollegeCityTier  GraduationYear    Domain  Age  Experience  \\\n",
       "0  ...               0            2011  0.635979   25           3   \n",
       "1  ...               0            2012  0.960603   26           2   \n",
       "2  ...               0            2014  0.450877   23           1   \n",
       "3  ...               1            2011  0.974396   26           4   \n",
       "4  ...               0            2012  0.124502   24           1   \n",
       "\n",
       "   Cognitive Test Scores     10 Board     12 Board  Personality Trait Score  \\\n",
       "0              63.591794  State Board  State Board                 0.644560   \n",
       "1              80.941599         CBSE         CBSE                 0.328220   \n",
       "2              59.983428         CBSE         CBSE                 0.390060   \n",
       "3              71.866926         CBSE         CBSE                -0.256000   \n",
       "4              64.189578         CBSE         CBSE                -0.453574   \n",
       "\n",
       "  Designations  \n",
       "0       others  \n",
       "1      manager  \n",
       "2     engineer  \n",
       "3       others  \n",
       "4       others  \n",
       "\n",
       "[5 rows x 23 columns]"
      ]
     },
     "execution_count": 33,
     "metadata": {},
     "output_type": "execute_result"
    }
   ],
   "source": [
    "train.head()"
   ]
  },
  {
   "cell_type": "code",
   "execution_count": 34,
   "metadata": {},
   "outputs": [],
   "source": [
    "q3=train['Salary'].quantile(.75)\n",
    "q2=train['Salary'].quantile(.25)\n",
    "q1=q3-q2\n",
    "q4=q3+1.5*q1\n",
    "q5=q2-1.5*q1"
   ]
  },
  {
   "cell_type": "code",
   "execution_count": 35,
   "metadata": {},
   "outputs": [
    {
     "data": {
      "text/plain": [
       "(3675, 23)"
      ]
     },
     "execution_count": 35,
     "metadata": {},
     "output_type": "execute_result"
    }
   ],
   "source": [
    "train=train[train['Salary']<q4]\n",
    "train=train[train['Salary']>q5]\n",
    "train.shape"
   ]
  },
  {
   "cell_type": "code",
   "execution_count": 36,
   "metadata": {},
   "outputs": [
    {
     "data": {
      "text/plain": [
       "<matplotlib.axes._subplots.AxesSubplot at 0x23b742f0ef0>"
      ]
     },
     "execution_count": 36,
     "metadata": {},
     "output_type": "execute_result"
    },
    {
     "data": {
      "image/png": "[encoded data removed]",
      "text/plain": [
       "<Figure size 432x288 with 1 Axes>"
      ]
     },
     "metadata": {
      "needs_background": "light"
     },
     "output_type": "display_data"
    }
   ],
   "source": [
    "sns.barplot(x='CollegeCityTier',y='Salary',data=train)"
   ]
  },
  {
   "cell_type": "code",
   "execution_count": 37,
   "metadata": {},
   "outputs": [
    {
     "data": {
      "text/plain": [
       "(array([ 0,  1,  2,  3,  4,  5,  6,  7,  8,  9, 10]),\n",
       " <a list of 11 Text xticklabel objects>)"
      ]
     },
     "execution_count": 37,
     "metadata": {},
     "output_type": "execute_result"
    },
    {
     "data": {
      "image/png": "[encoded data removed]",
      "text/plain": [
       "<Figure size 432x288 with 1 Axes>"
      ]
     },
     "metadata": {
      "needs_background": "light"
     },
     "output_type": "display_data"
    }
   ],
   "source": [
    "sns.barplot(x='Designations',y='Salary',data=train)\n",
    "plt.xticks(rotation=90)"
   ]
  },
  {
   "cell_type": "code",
   "execution_count": 38,
   "metadata": {},
   "outputs": [
    {
     "data": {
      "text/plain": [
       "<matplotlib.axes._subplots.AxesSubplot at 0x23b744c4860>"
      ]
     },
     "execution_count": 38,
     "metadata": {},
     "output_type": "execute_result"
    },
    {
     "data": {
      "image/png": "[encoded data removed]",
      "text/plain": [
       "<Figure size 432x288 with 1 Axes>"
      ]
     },
     "metadata": {
      "needs_background": "light"
     },
     "output_type": "display_data"
    }
   ],
   "source": [
    "sns.barplot(x='CollegeCityTier',y='Salary',data=train)"
   ]
  },
  {
   "cell_type": "code",
   "execution_count": 39,
   "metadata": {},
   "outputs": [
    {
     "data": {
      "text/plain": [
       "<matplotlib.axes._subplots.AxesSubplot at 0x23b743b3048>"
      ]
     },
     "execution_count": 39,
     "metadata": {},
     "output_type": "execute_result"
    },
    {
     "data": {
      "image/png": "[encoded data removed]",
      "text/plain": [
       "<Figure size 432x288 with 1 Axes>"
      ]
     },
     "metadata": {
      "needs_background": "light"
     },
     "output_type": "display_data"
    }
   ],
   "source": [
    "sns.barplot(x='Age',y='Salary',data=train)"
   ]
  },
  {
   "cell_type": "code",
   "execution_count": 40,
   "metadata": {},
   "outputs": [
    {
     "data": {
      "text/plain": [
       "<matplotlib.axes._subplots.AxesSubplot at 0x23b745ddf60>"
      ]
     },
     "execution_count": 40,
     "metadata": {},
     "output_type": "execute_result"
    },
    {
     "data": {
      "image/png": "[encoded data removed]",
      "text/plain": [
       "<Figure size 432x288 with 1 Axes>"
      ]
     },
     "metadata": {
      "needs_background": "light"
     },
     "output_type": "display_data"
    }
   ],
   "source": [
    "sns.barplot(x='Experience',y='Salary',data=train)"
   ]
  },
  {
   "cell_type": "code",
   "execution_count": 41,
   "metadata": {},
   "outputs": [
    {
     "data": {
      "text/plain": [
       "<matplotlib.axes._subplots.AxesSubplot at 0x23b7467c7b8>"
      ]
     },
     "execution_count": 41,
     "metadata": {},
     "output_type": "execute_result"
    },
    {
     "data": {
      "image/png": "[encoded data removed]",
      "text/plain": [
       "<Figure size 720x720 with 2 Axes>"
      ]
     },
     "metadata": {
      "needs_background": "light"
     },
     "output_type": "display_data"
    }
   ],
   "source": [
    "plt.figure(figsize=(10,10))\n",
    "sns.heatmap(train.corr(),annot=True)"
   ]
  },
  {
   "cell_type": "code",
   "execution_count": 42,
   "metadata": {},
   "outputs": [],
   "source": [
    "from sklearn.linear_model import LinearRegression\n",
    "from sklearn import svm\n",
    "from sklearn.ensemble import RandomForestRegressor\n",
    "from sklearn import linear_model\n",
    "from sklearn.preprocessing import PolynomialFeatures \n",
    "from sklearn.linear_model import LinearRegression\n",
    "from sklearn.metrics import mean_squared_error\n",
    "from sklearn.metrics import mean_absolute_error\n",
    "from math import sqrt\n",
    "from sklearn.preprocessing import StandardScaler"
   ]
  },
  {
   "cell_type": "code",
   "execution_count": 43,
   "metadata": {},
   "outputs": [],
   "source": [
    "X= train[['collegeGPA','CollegeTier','CollegeCityTier','Age','Experience', 'Cognitive Test Scores','10percentage','12percentage']]\n",
    "Y = train['Salary']"
   ]
  },
  {
   "cell_type": "code",
   "execution_count": 44,
   "metadata": {},
   "outputs": [],
   "source": [
    "from sklearn.model_selection import train_test_split\n",
    "x_train, x_test, y_train, y_test = train_test_split(X,Y,test_size=0.30,random_state=1)"
   ]
  },
  {
   "cell_type": "code",
   "execution_count": 45,
   "metadata": {},
   "outputs": [
    {
     "name": "stdout",
     "output_type": "stream",
     "text": [
      "                 Feature       Score\n",
      "4             Experience  755.685759\n",
      "5  Cognitive Test Scores  345.779403\n",
      "3                    Age  218.985077\n",
      "6           10percentage  196.456129\n",
      "7           12percentage  191.292989\n",
      "0             collegeGPA  133.382060\n",
      "1            CollegeTier   82.528343\n",
      "2        CollegeCityTier    2.515481\n"
     ]
    }
   ],
   "source": [
    "from sklearn.feature_selection import SelectKBest\n",
    "from sklearn.feature_selection import f_regression\n",
    "bestfeatures = SelectKBest(score_func=f_regression, k='all')\n",
    "fit = bestfeatures.fit(x_train,y_train)\n",
    "dfscores = pd.DataFrame(fit.scores_)\n",
    "dfcolumns = pd.DataFrame(x_train.columns)\n",
    "featureScores = pd.concat([dfcolumns,dfscores],axis=1)\n",
    "featureScores.columns = ['Feature','Score'] \n",
    "print(featureScores.nlargest(10,'Score'))  "
   ]
  },
  {
   "cell_type": "code",
   "execution_count": 46,
   "metadata": {},
   "outputs": [
    {
     "name": "stdout",
     "output_type": "stream",
     "text": [
      "*** Linear Regression ***\n",
      "Train R-squared:  0.37790985152209344\n",
      "Test R-squared:  0.39600657517359805\n",
      "MAE:  74500.67541409405\n",
      "MSE:  8969855560.130617\n",
      "RMSE:  94709.32140043353\n"
     ]
    }
   ],
   "source": [
    "lr_mdl = LinearRegression()\n",
    "lr_mdl.fit(x_train,y_train) \n",
    "\n",
    "y_pred = lr_mdl.predict(x_test)\n",
    "\n",
    "print(\"*** Linear Regression ***\")\n",
    "print(\"Train R-squared: \", lr_mdl.score(x_train,y_train))\n",
    "print(\"Test R-squared: \", lr_mdl.score(x_test,y_test))\n",
    "\n",
    "print(\"MAE: \", mean_absolute_error(y_test, y_pred))\n",
    "print(\"MSE: \", mean_squared_error(y_test, y_pred))\n",
    "print(\"RMSE: \", sqrt(mean_squared_error(y_test, y_pred)))"
   ]
  },
  {
   "cell_type": "code",
   "execution_count": 47,
   "metadata": {},
   "outputs": [
    {
     "name": "stderr",
     "output_type": "stream",
     "text": [
      "E:\\Anaconda\\lib\\site-packages\\sklearn\\svm\\base.py:196: FutureWarning: The default value of gamma will change from 'auto' to 'scale' in version 0.22 to account better for unscaled features. Set gamma explicitly to 'auto' or 'scale' to avoid this warning.\n",
      "  \"avoid this warning.\", FutureWarning)\n"
     ]
    },
    {
     "name": "stdout",
     "output_type": "stream",
     "text": [
      "*** SVR - RBF ***\n",
      "Train R-squared:  -2.207990267222293e-05\n",
      "Test R-squared:  -0.0005872582333272813\n",
      "MAE:  96305.42053257283\n",
      "MSE:  14859637229.06365\n",
      "RMSE:  121900.11168601795\n"
     ]
    }
   ],
   "source": [
    "svm_mdl = svm.SVR()\n",
    "svm_mdl.fit(x_train,y_train) \n",
    "\n",
    "y_pred = svm_mdl.predict(x_test)\n",
    "\n",
    "print(\"*** SVR - RBF ***\")\n",
    "print(\"Train R-squared: \", svm_mdl.score(x_train,y_train))\n",
    "print(\"Test R-squared: \", svm_mdl.score(x_test,y_test))\n",
    "\n",
    "print(\"MAE: \", mean_absolute_error(y_test, y_pred))\n",
    "print(\"MSE: \", mean_squared_error(y_test, y_pred))\n",
    "print(\"RMSE: \", sqrt(mean_squared_error(y_test, y_pred)))"
   ]
  },
  {
   "cell_type": "code",
   "execution_count": 48,
   "metadata": {},
   "outputs": [
    {
     "name": "stdout",
     "output_type": "stream",
     "text": [
      "*** Random Forest Regressor ***\n",
      "Train R-squared:  0.9131813929044258\n",
      "Test R-squared:  0.39298633222385465\n",
      "MAE:  73946.3672091986\n",
      "MSE:  9014708934.19423\n",
      "RMSE:  94945.8210465012\n"
     ]
    }
   ],
   "source": [
    "rf_mdl = RandomForestRegressor(n_estimators = 1500,max_features='sqrt')\n",
    "rf_mdl.fit(x_train,y_train) \n",
    "\n",
    "y_pred = rf_mdl.predict(x_test)\n",
    "\n",
    "print(\"*** Random Forest Regressor ***\")\n",
    "print(\"Train R-squared: \", rf_mdl.score(x_train,y_train))\n",
    "print(\"Test R-squared: \", rf_mdl.score(x_test,y_test))\n",
    "\n",
    "print(\"MAE: \", mean_absolute_error(y_test, y_pred))\n",
    "print(\"MSE: \", mean_squared_error(y_test, y_pred))\n",
    "print(\"RMSE: \", sqrt(mean_squared_error(y_test, y_pred)))"
   ]
  },
  {
   "cell_type": "code",
   "execution_count": 49,
   "metadata": {},
   "outputs": [
    {
     "name": "stdout",
     "output_type": "stream",
     "text": [
      "*** Linear SVR ***\n",
      "Train R-squared:  0.14378494394274188\n",
      "Test R-squared:  0.1377641166450877\n",
      "MAE:  88105.12359037425\n",
      "MSE:  12804992595.206009\n",
      "RMSE:  113159.1472007721\n"
     ]
    }
   ],
   "source": [
    "svr_mdl = svm.LinearSVR()\n",
    "svr_mdl.fit(x_train,y_train) \n",
    "\n",
    "y_pred = svr_mdl.predict(x_test)\n",
    "\n",
    "print(\"*** Linear SVR ***\")\n",
    "print(\"Train R-squared: \", svr_mdl.score(x_train,y_train))\n",
    "print(\"Test R-squared: \", svr_mdl.score(x_test,y_test))\n",
    "\n",
    "print(\"MAE: \", mean_absolute_error(y_test, y_pred))\n",
    "print(\"MSE: \", mean_squared_error(y_test, y_pred))\n",
    "print(\"RMSE: \", sqrt(mean_squared_error(y_test, y_pred)))"
   ]
  },
  {
   "cell_type": "code",
   "execution_count": 50,
   "metadata": {},
   "outputs": [
    {
     "name": "stdout",
     "output_type": "stream",
     "text": [
      "*** Lasso ***\n",
      "Train R-squared:  0.37790985151809986\n",
      "Test R-squared:  0.3960067159145291\n",
      "MAE:  74500.66335793177\n",
      "MSE:  8969853469.998886\n",
      "RMSE:  94709.31036597662\n"
     ]
    }
   ],
   "source": [
    "lasso_mdl = linear_model.Lasso(alpha=0.05, selection=\"random\", random_state=0)\n",
    "lasso_mdl.fit(x_train,y_train) \n",
    "\n",
    "y_pred = lasso_mdl.predict(x_test)\n",
    "\n",
    "print(\"*** Lasso ***\")\n",
    "print(\"Train R-squared: \", lasso_mdl.score(x_train,y_train))\n",
    "print(\"Test R-squared: \", lasso_mdl.score(x_test,y_test))\n",
    "\n",
    "print(\"MAE: \", mean_absolute_error(y_test, y_pred))\n",
    "print(\"MSE: \", mean_squared_error(y_test, y_pred))\n",
    "print(\"RMSE: \", sqrt(mean_squared_error(y_test, y_pred)))"
   ]
  },
  {
   "cell_type": "code",
   "execution_count": 51,
   "metadata": {},
   "outputs": [
    {
     "name": "stderr",
     "output_type": "stream",
     "text": [
      "E:\\Anaconda\\lib\\site-packages\\sklearn\\linear_model\\logistic.py:433: FutureWarning: Default solver will be changed to 'lbfgs' in 0.22. Specify a solver to silence this warning.\n",
      "  FutureWarning)\n",
      "E:\\Anaconda\\lib\\site-packages\\sklearn\\linear_model\\logistic.py:460: FutureWarning: Default multi_class will be changed to 'auto' in 0.22. Specify the multi_class option to silence this warning.\n",
      "  \"this warning.\", FutureWarning)\n"
     ]
    },
    {
     "name": "stdout",
     "output_type": "stream",
     "text": [
      "*** Logistic ***\n",
      "Train R-squared:  0.11003110419906688\n",
      "Test R-squared:  0.09338168631006347\n",
      "MAE:  85426.11060743427\n",
      "MSE:  12790231187.66999\n",
      "RMSE:  113093.90429050538\n"
     ]
    }
   ],
   "source": [
    "log_mdl = linear_model.LogisticRegression()\n",
    "log_mdl.fit(x_train,y_train) \n",
    "\n",
    "y_pred = log_mdl.predict(x_test)\n",
    "\n",
    "print(\"*** Logistic ***\")\n",
    "print(\"Train R-squared: \", log_mdl.score(x_train,y_train))\n",
    "print(\"Test R-squared: \", log_mdl.score(x_test,y_test))\n",
    "\n",
    "print(\"MAE: \", mean_absolute_error(y_test, y_pred))\n",
    "print(\"MSE: \", mean_squared_error(y_test, y_pred))\n",
    "print(\"RMSE: \", sqrt(mean_squared_error(y_test, y_pred)))"
   ]
  },
  {
   "cell_type": "code",
   "execution_count": 52,
   "metadata": {},
   "outputs": [
    {
     "name": "stdout",
     "output_type": "stream",
     "text": [
      "Train R-squared is 1.0\n",
      "Test R-squared is -0.2629840305116553\n",
      "MSE is 136954.26108115984\n",
      "MAE is 105825.92928377153\n",
      "RMSE is 136954.26108115984\n"
     ]
    }
   ],
   "source": [
    "from sklearn.tree import DecisionTreeRegressor\n",
    "dt= DecisionTreeRegressor()\n",
    "from sklearn.model_selection import train_test_split\n",
    "from sklearn.metrics import mean_squared_error\n",
    "from sklearn.metrics import mean_absolute_error\n",
    "x_train, x_test, y_train, y_test = train_test_split(X,Y,test_size=0.30,random_state=1)\n",
    "dt.fit(x_train,y_train)\n",
    "y_pred= dt.predict(x_test)\n",
    "print('Train R-squared is',dt.score(x_train,y_train))\n",
    "print('Test R-squared is',dt.score(x_test,y_test))\n",
    "from sklearn.metrics import mean_squared_error\n",
    "from math import sqrt\n",
    "MAE=(mean_absolute_error(y_test,y_pred))\n",
    "MSE = sqrt(mean_squared_error(y_test,y_pred))\n",
    "RMSE = sqrt(mean_squared_error(y_test,y_pred))\n",
    "print('MSE is',MSE)\n",
    "print('MAE is',MAE)\n",
    "print('RMSE is',RMSE)"
   ]
  },
  {
   "cell_type": "code",
   "execution_count": 53,
   "metadata": {},
   "outputs": [
    {
     "name": "stdout",
     "output_type": "stream",
     "text": [
      "Train R-squared is 0.5038995427122172\n",
      "Test R-squared is 0.40326325534202817\n",
      "MSE is 94138.65950389054\n",
      "MAE is 73205.91331804243\n",
      "RMSE is 94138.65950389054\n"
     ]
    }
   ],
   "source": [
    "from sklearn.ensemble import GradientBoostingRegressor\n",
    "gbr=GradientBoostingRegressor()\n",
    "x_train, x_test, y_train, y_test = train_test_split(X,Y,test_size=0.30,random_state=1)\n",
    "gbr.fit(x_train,y_train)\n",
    "y_pred= gbr.predict(x_test)\n",
    "print('Train R-squared is',gbr.score(x_train,y_train))\n",
    "print('Test R-squared is',gbr.score(x_test,y_test))\n",
    "from sklearn.metrics import mean_squared_error\n",
    "from math import sqrt\n",
    "MAE=(mean_absolute_error(y_test,y_pred))\n",
    "MSE = sqrt(mean_squared_error(y_test,y_pred))\n",
    "RMSE = sqrt(mean_squared_error(y_test,y_pred))\n",
    "print('MSE is',MSE)\n",
    "print('MAE is',MAE)\n",
    "print('RMSE is',RMSE)"
   ]
  },
  {
   "cell_type": "code",
   "execution_count": 54,
   "metadata": {},
   "outputs": [
    {
     "name": "stdout",
     "output_type": "stream",
     "text": [
      "Best degree 2 with RMSE 91907.33128983782\n"
     ]
    },
    {
     "data": {
      "text/plain": [
       "Text(0, 0.5, 'RMSE')"
      ]
     },
     "execution_count": 54,
     "metadata": {},
     "output_type": "execute_result"
    },
    {
     "data": {
      "image/png": "[encoded data removed]",
      "text/plain": [
       "<Figure size 432x288 with 1 Axes>"
      ]
     },
     "metadata": {
      "needs_background": "light"
     },
     "output_type": "display_data"
    }
   ],
   "source": [
    "from sklearn.preprocessing import PolynomialFeatures\n",
    "x_train, x_test, y_train, y_test = train_test_split(X,Y, test_size=0.3)\n",
    "\n",
    "rmses = []\n",
    "degrees = np.arange(1, 10)\n",
    "min_rmse, min_deg = 1e10, 0\n",
    "\n",
    "for deg in degrees:\n",
    "\n",
    "    # Train features\n",
    "    poly_features = PolynomialFeatures(degree=deg, include_bias=False)\n",
    "    x_poly_train = poly_features.fit_transform(x_train)\n",
    "\n",
    "    # Linear regression\n",
    "    poly_reg = LinearRegression()\n",
    "    poly_reg.fit(x_poly_train, y_train)\n",
    "\n",
    "    # Compare with test data\n",
    "    x_poly_test = poly_features.fit_transform(x_test)\n",
    "    poly_predict = poly_reg.predict(x_poly_test)\n",
    "    poly_mse = mean_squared_error(y_test, poly_predict)\n",
    "    poly_rmse = np.sqrt(poly_mse)\n",
    "    rmses.append(poly_rmse)\n",
    "\n",
    "    # Cross-validation of degree\n",
    "    if min_rmse > poly_rmse:\n",
    "        min_rmse = poly_rmse\n",
    "        min_deg = deg\n",
    "\n",
    "# Plot and present results\n",
    "print('Best degree {} with RMSE {}'.format(min_deg, min_rmse))\n",
    "\n",
    "fig = plt.figure()\n",
    "ax = fig.add_subplot(111)\n",
    "ax.plot(degrees, rmses)\n",
    "ax.set_yscale('log')\n",
    "ax.set_xlabel('Degree')\n",
    "ax.set_ylabel('RMSE')"
   ]
  },
  {
   "cell_type": "code",
   "execution_count": 55,
   "metadata": {},
   "outputs": [
    {
     "name": "stdout",
     "output_type": "stream",
     "text": [
      "*** Linear Regression - Polynomial Features ***\n",
      "Train R-squared:  0.37790985152209344\n",
      "Test R-squared:  0.3960065751735986\n",
      "MAE:  74500.675414094\n",
      "MSE:  8969855560.13061\n",
      "RMSE:  94709.32140043349\n"
     ]
    }
   ],
   "source": [
    "poly = PolynomialFeatures(degree=1)\n",
    "X_poly= poly.fit_transform(X) \n",
    "from sklearn.model_selection import train_test_split\n",
    "x_train, x_test, y_train, y_test = train_test_split(X_poly,Y,test_size=0.30,random_state=1)\n",
    "lin2 = LinearRegression() \n",
    "lin2.fit(x_train,y_train) \n",
    "\n",
    "y_pred = lin2.predict(x_test)\n",
    "\n",
    "print(\"*** Linear Regression - Polynomial Features ***\")\n",
    "print(\"Train R-squared: \", lin2.score(x_train,y_train))\n",
    "print(\"Test R-squared: \", lin2.score(x_test,y_test))\n",
    "\n",
    "print(\"MAE: \", mean_absolute_error(y_test, y_pred))\n",
    "print(\"MSE: \", mean_squared_error(y_test, y_pred))\n",
    "print(\"RMSE: \", sqrt(mean_squared_error(y_test, y_pred)))"
   ]
  },
  {
   "cell_type": "code",
   "execution_count": 56,
   "metadata": {},
   "outputs": [],
   "source": [
    "from sklearn import neighbors\n",
    "from sklearn.metrics import mean_squared_error \n",
    "from math import sqrt\n",
    "import matplotlib.pyplot as plt\n",
    "%matplotlib inline"
   ]
  },
  {
   "cell_type": "code",
   "execution_count": 57,
   "metadata": {},
   "outputs": [
    {
     "data": {
      "text/plain": [
       "{'n_neighbors': 9}"
      ]
     },
     "execution_count": 57,
     "metadata": {},
     "output_type": "execute_result"
    }
   ],
   "source": [
    "from sklearn.model_selection import GridSearchCV\n",
    "params = {'n_neighbors':[2,3,4,5,6,7,8,9]}\n",
    "\n",
    "knn = neighbors.KNeighborsRegressor()\n",
    "\n",
    "model = GridSearchCV(knn, params, cv=5)\n",
    "model.fit(x_train,y_train)\n",
    "model.best_params_"
   ]
  },
  {
   "cell_type": "markdown",
   "metadata": {},
   "source": [
    "from sklearn.neighbors import KNeighborsRegressor\n",
    "neigh = KNeighborsRegressor(n_neighbors=9)\n",
    "neigh.fit(X,Y) \n",
    "x_train, x_test, y_train, y_test = train_test_split(X,Y,test_size=0.30,random_state=1)\n",
    "neigh.fit(x_train,y_train)\n",
    "y_pred= neigh.predict(x_test)\n",
    "print('Train R-squared is',dt.score(x_train,y_train))\n",
    "print('Test R-squared is',dt.score(x_test,y_test))\n",
    "from sklearn.metrics import mean_squared_error\n",
    "from math import sqrt\n",
    "MAE=(mean_absolute_error(y_test,y_pred))\n",
    "MSE = sqrt(mean_squared_error(y_test,y_pred))\n",
    "RMSE = sqrt(mean_squared_error(y_test,y_pred))\n",
    "print('MSE is',MSE)\n",
    "print('MAE is',mae)\n",
    "print('RMSE is',rmse)"
   ]
  },
  {
   "cell_type": "code",
   "execution_count": null,
   "metadata": {},
   "outputs": [],
   "source": [
    "sns.regplot(x=y_test,y=y_pred) ## Showing the relationship between train and test data according to Linear Regression as it was the best Regression model"
   ]
  },
  {
   "cell_type": "markdown",
   "metadata": {},
   "source": [
    "## Let's try to modify this as a classification problem by creating 3 bins from salary columns ##"
   ]
  },
  {
   "cell_type": "code",
   "execution_count": null,
   "metadata": {},
   "outputs": [],
   "source": [
    "def sal(x):\n",
    "    if x > 1000000:\n",
    "        return 'High packg'\n",
    "    elif x > 500000 and x <= 1000000:\n",
    "        return 'Good packg'\n",
    "    elif x > 350000 and x <= 500000:\n",
    "        return 'Average packg'\n",
    "    else:\n",
    "        return 'Low packg'"
   ]
  },
  {
   "cell_type": "code",
   "execution_count": null,
   "metadata": {},
   "outputs": [],
   "source": [
    "df = train.copy()\n",
    "df.head()"
   ]
  },
  {
   "cell_type": "code",
   "execution_count": null,
   "metadata": {},
   "outputs": [],
   "source": [
    "df['Salary'] = df['Salary'].astype(\"float\")"
   ]
  },
  {
   "cell_type": "code",
   "execution_count": null,
   "metadata": {},
   "outputs": [],
   "source": [
    "from sklearn.preprocessing import LabelEncoder\n",
    "df['Salary'] = df['Salary'].apply(sal)\n",
    "import seaborn as sns\n",
    "sns.countplot(df['Salary'])"
   ]
  },
  {
   "cell_type": "code",
   "execution_count": null,
   "metadata": {},
   "outputs": [],
   "source": [
    "lc = LabelEncoder()\n",
    "df['Salary'] = lc.fit_transform(df['Salary'])\n",
    "df.head()"
   ]
  },
  {
   "cell_type": "code",
   "execution_count": null,
   "metadata": {},
   "outputs": [],
   "source": [
    "sns.countplot(df['Salary'])"
   ]
  },
  {
   "cell_type": "code",
   "execution_count": null,
   "metadata": {},
   "outputs": [],
   "source": [
    "X = df[['collegeGPA','CollegeTier','CollegeCityTier','Age','Experience', 'Cognitive Test Scores','10percentage','12percentage']]\n",
    "Y = df['Salary']"
   ]
  },
  {
   "cell_type": "code",
   "execution_count": null,
   "metadata": {},
   "outputs": [],
   "source": [
    "from sklearn.model_selection import train_test_split\n",
    "x_train, x_test, y_train, y_test = train_test_split(X,Y,test_size=0.30,random_state=1)"
   ]
  },
  {
   "cell_type": "code",
   "execution_count": null,
   "metadata": {},
   "outputs": [],
   "source": [
    "from sklearn.feature_selection import SelectKBest\n",
    "from sklearn.feature_selection import f_classif \n",
    "bestfeatures = SelectKBest(score_func=f_classif, k='all')\n",
    "fit = bestfeatures.fit(x_train,y_train)\n",
    "dfscores = pd.DataFrame(fit.scores_)\n",
    "dfcolumns = pd.DataFrame(x_train.columns)\n",
    "featureScores = pd.concat([dfcolumns,dfscores],axis=1)\n",
    "featureScores.columns = ['Feature','Score'] \n",
    "print(featureScores.nlargest(10,'Score'))  "
   ]
  },
  {
   "cell_type": "markdown",
   "metadata": {},
   "source": [
    "# Model Building"
   ]
  },
  {
   "cell_type": "markdown",
   "metadata": {},
   "source": [
    "## Null Accuracy"
   ]
  },
  {
   "cell_type": "code",
   "execution_count": null,
   "metadata": {},
   "outputs": [],
   "source": [
    "y_test.value_counts()"
   ]
  },
  {
   "cell_type": "code",
   "execution_count": null,
   "metadata": {},
   "outputs": [],
   "source": [
    "# Null Accuracy\n",
    "#---------------\n",
    "avg_pckg  = y_test.value_counts()[0]\n",
    "good_pckg = y_test.value_counts()[1]\n",
    "low_pckg  = y_test.value_counts()[2]\n",
    "print(\"Data points with Average Package    : \", avg_pckg)\n",
    "print(\"Data points with Good Package       : \", good_pckg)\n",
    "print(\"Data points with Low Package        : \", low_pckg)\n",
    "print(\"---------------------NULL ACCURACY---------------------------\")\n",
    "print(y_test.value_counts().head(1) / len(y_test))"
   ]
  },
  {
   "cell_type": "markdown",
   "metadata": {},
   "source": [
    "## Logistic Regression"
   ]
  },
  {
   "cell_type": "code",
   "execution_count": null,
   "metadata": {},
   "outputs": [],
   "source": [
    "# train a Simple logistic regression model on the training set\n",
    "from sklearn.linear_model import LogisticRegression\n",
    "logreg = LogisticRegression()\n",
    "logreg.fit(x_train, y_train)"
   ]
  },
  {
   "cell_type": "code",
   "execution_count": null,
   "metadata": {},
   "outputs": [],
   "source": [
    "# make class predictions for the testing set\n",
    "y_pred_class = logreg.predict(x_test)"
   ]
  },
  {
   "cell_type": "code",
   "execution_count": null,
   "metadata": {},
   "outputs": [],
   "source": [
    "# calculate accuracy\n",
    "accuracy = []\n",
    "from sklearn import metrics\n",
    "accuracy.append(metrics.accuracy_score(y_test, y_pred_class))\n",
    "print(metrics.accuracy_score(y_test, y_pred_class))"
   ]
  },
  {
   "cell_type": "code",
   "execution_count": null,
   "metadata": {},
   "outputs": [],
   "source": [
    "y_test.dtype"
   ]
  },
  {
   "cell_type": "code",
   "execution_count": null,
   "metadata": {},
   "outputs": [],
   "source": [
    "## To Build Confusion Matrix\n",
    "def plot_confusion_matrix(cm, classes,\n",
    "                          normalize=False,\n",
    "                          title='Confusion matrix',\n",
    "                          cmap=plt.cm.Blues):\n",
    "    \"\"\"\n",
    "    This function prints and plots the confusion matrix.\n",
    "    Normalization can be applied by setting `normalize=True`.\n",
    "    \"\"\"\n",
    "    if normalize:\n",
    "        cm = cm.astype('float') / cm.sum(axis=1)[:, np.newaxis]\n",
    "        print(\"Normalized confusion matrix\")\n",
    "    else:\n",
    "        print('Confusion matrix, without normalization')\n",
    "\n",
    "    print(cm)\n",
    "\n",
    "    plt.imshow(cm, interpolation='nearest', cmap=cmap)\n",
    "    plt.title(title)\n",
    "    plt.colorbar()\n",
    "    tick_marks = np.arange(len(classes))\n",
    "    plt.xticks(tick_marks, classes, rotation=45)\n",
    "    plt.yticks(tick_marks, classes)\n",
    "\n",
    "    fmt = '.2f' if normalize else 'd'\n",
    "    thresh = cm.max() / 2.\n",
    "    for i, j in itertools.product(range(cm.shape[0]), range(cm.shape[1])):\n",
    "        plt.text(j, i, format(cm[i, j], fmt),\n",
    "                 horizontalalignment=\"center\",\n",
    "                 color=\"white\" if cm[i, j] > thresh else \"black\")\n",
    "\n",
    "    plt.tight_layout()\n",
    "    plt.ylabel('True label')\n",
    "    plt.xlabel('Predicted label')"
   ]
  },
  {
   "cell_type": "code",
   "execution_count": null,
   "metadata": {},
   "outputs": [],
   "source": [
    "# IMPORTANT: first argument is true values, second argument is predicted values\n",
    "import itertools\n",
    "from sklearn.metrics import confusion_matrix\n",
    "cnf_matrix = confusion_matrix(y_test, y_pred_class)\n",
    "\n",
    "# Plot non-normalized confusion matrix\n",
    "plt.figure()\n",
    "plot_confusion_matrix(cnf_matrix, classes=pd.unique(y_train),\n",
    "                      title='Confusion matrix, without normalization')"
   ]
  },
  {
   "cell_type": "code",
   "execution_count": null,
   "metadata": {},
   "outputs": [],
   "source": [
    "n_iterations = 100                 # Number of bootstrap samples to create\n",
    "n_size = int(len(X) * 0.70)   # picking only 70 % of the given data in every bootstrap sample\n",
    "print(round(n_size*0.7))"
   ]
  },
  {
   "cell_type": "code",
   "execution_count": null,
   "metadata": {},
   "outputs": [],
   "source": [
    "values =  X.values\n",
    "values"
   ]
  },
  {
   "cell_type": "code",
   "execution_count": null,
   "metadata": {},
   "outputs": [],
   "source": [
    "from sklearn.utils import resample\n",
    "from sklearn.metrics import accuracy_score\n",
    "stats1 = list()\n",
    "for i in range(n_iterations):\n",
    "   \n",
    "    sample = resample(values, n_samples=n_size) # Sampling with replacement\n",
    "      \n",
    "    train = x_train # 70%\n",
    "    train_shape = train.shape\n",
    "    test = x_test # 30%\n",
    "    test_shape = test.shape\n",
    "\n",
    "    model = LogisticRegression()\n",
    "    model.fit(x_train,y_train)\n",
    "\n",
    "    predictions = model.predict(x_test)\n",
    "    score = accuracy_score(y_test, predictions)    \n",
    "    stats1.append(score)\n",
    "    \n",
    "    \n",
    "from matplotlib import pyplot\n",
    "pyplot.hist(stats1)\n",
    "pyplot.show()\n",
    "# confidence intervals\n",
    "alpha = 0.95                             # for 95% confidence \n",
    "p = ((1.0-alpha)/2.0) * 100              # tail regions on right and left .25 on each side indicated by P value (border)\n",
    "lower = max(0.0, np.percentile(stats1, p))  \n",
    "p = (alpha+((1.0-alpha)/2.0)) * 100\n",
    "upper = min(1.0, np.percentile(stats1, p))\n",
    "print('%.1f confidence interval %.1f%% and %.1f%%' % (alpha*100, lower*100, upper*100))"
   ]
  },
  {
   "cell_type": "markdown",
   "metadata": {},
   "source": [
    "## KNN (K Nearest Neighbours)"
   ]
  },
  {
   "cell_type": "code",
   "execution_count": null,
   "metadata": {},
   "outputs": [],
   "source": [
    "from sklearn.neighbors import KNeighborsClassifier\n",
    "\n",
    "NNH = KNeighborsClassifier()\n",
    "\n",
    "# weights :  optional (default = ‘uniform’)\n",
    "# weight function used in prediction. Possible values:\n",
    "#‘uniform’ : uniform weights. All points in each neighborhood are weighted equally.\n",
    "#‘distance’ : weight points by the inverse of their distance. in this case, closer neighbors of a query point will have a greater influence than neighbors which are further away.\n",
    "\n",
    "# distance measures can be P=1 manhattan, P=2 Euclidian , anyother p value will map to minkowskian"
   ]
  },
  {
   "cell_type": "code",
   "execution_count": null,
   "metadata": {},
   "outputs": [],
   "source": [
    "# Call Nearest Neighbour algorithm\n",
    "\n",
    "NNH.fit(x_train, y_train)"
   ]
  },
  {
   "cell_type": "code",
   "execution_count": null,
   "metadata": {},
   "outputs": [],
   "source": [
    "# For every test data point, letspredict it's label based on 4 nearest neighbours in this model. T\n",
    "# The majority class will be assigned to the test data point\n",
    "\n",
    "y_pred_class = NNH.predict(x_test)"
   ]
  },
  {
   "cell_type": "code",
   "execution_count": null,
   "metadata": {},
   "outputs": [],
   "source": [
    "# calculate accuracy\n",
    "from sklearn import metrics\n",
    "accuracy.append(metrics.accuracy_score(y_test, y_pred_class))\n",
    "print(metrics.accuracy_score(y_test, y_pred_class))"
   ]
  },
  {
   "cell_type": "code",
   "execution_count": null,
   "metadata": {},
   "outputs": [],
   "source": [
    "# IMPORTANT: first argument is true values, second argument is predicted values\n",
    "import itertools\n",
    "from sklearn.metrics import confusion_matrix\n",
    "cnf_matrix = confusion_matrix(y_test, y_pred_class)\n",
    "\n",
    "# Plot non-normalized confusion matrix\n",
    "plt.figure()\n",
    "plot_confusion_matrix(cnf_matrix, classes=pd.unique(y_train),\n",
    "                      title='Confusion matrix, without normalization')"
   ]
  },
  {
   "cell_type": "code",
   "execution_count": null,
   "metadata": {},
   "outputs": [],
   "source": [
    "from sklearn.utils import resample\n",
    "from sklearn.metrics import accuracy_score\n",
    "stats1 = list()\n",
    "for i in range(n_iterations):\n",
    "   \n",
    "    sample = resample(values, n_samples=n_size) # Sampling with replacement\n",
    "      \n",
    "    train = x_train # 70%\n",
    "    train_shape = train.shape\n",
    "    test = x_test # 30%\n",
    "    test_shape = test.shape\n",
    "\n",
    "    model = KNeighborsClassifier()\n",
    "    model.fit(x_train,y_train)\n",
    "\n",
    "    predictions = model.predict(x_test)\n",
    "    score = accuracy_score(y_test, predictions)    \n",
    "    stats1.append(score)\n",
    "    \n",
    "    \n",
    "from matplotlib import pyplot\n",
    "pyplot.hist(stats1)\n",
    "pyplot.show()\n",
    "# confidence intervals\n",
    "alpha = 0.95                             # for 95% confidence \n",
    "p = ((1.0-alpha)/2.0) * 100              # tail regions on right and left .25 on each side indicated by P value (border)\n",
    "lower = max(0.0, np.percentile(stats1, p))  \n",
    "p = (alpha+((1.0-alpha)/2.0)) * 100\n",
    "upper = min(1.0, np.percentile(stats1, p))\n",
    "print('%.1f confidence interval %.1f%% and %.1f%%' % (alpha*100, lower*100, upper*100))"
   ]
  },
  {
   "cell_type": "markdown",
   "metadata": {},
   "source": [
    "## Naive Bayes"
   ]
  },
  {
   "cell_type": "code",
   "execution_count": null,
   "metadata": {},
   "outputs": [],
   "source": [
    "# To model the Gaussian Navie Bayes classifier\n",
    "from sklearn.naive_bayes import GaussianNB"
   ]
  },
  {
   "cell_type": "code",
   "execution_count": null,
   "metadata": {},
   "outputs": [],
   "source": [
    "clf = GaussianNB()\n",
    "clf.fit(x_train, y_train)"
   ]
  },
  {
   "cell_type": "code",
   "execution_count": null,
   "metadata": {},
   "outputs": [],
   "source": [
    "y_pred_class = clf.predict(x_test)"
   ]
  },
  {
   "cell_type": "code",
   "execution_count": null,
   "metadata": {},
   "outputs": [],
   "source": [
    "# calculate accuracy\n",
    "from sklearn import metrics\n",
    "accuracy.append(metrics.accuracy_score(y_test, y_pred_class))\n",
    "print(metrics.accuracy_score(y_test, y_pred_class))"
   ]
  },
  {
   "cell_type": "code",
   "execution_count": null,
   "metadata": {},
   "outputs": [],
   "source": [
    "# IMPORTANT: first argument is true values, second argument is predicted values\n",
    "import itertools\n",
    "from sklearn.metrics import confusion_matrix\n",
    "cnf_matrix = confusion_matrix(y_test, y_pred_class)\n",
    "\n",
    "# Plot non-normalized confusion matrix\n",
    "plt.figure()\n",
    "plot_confusion_matrix(cnf_matrix, classes=pd.unique(y_train),\n",
    "                      title='Confusion matrix, without normalization')"
   ]
  },
  {
   "cell_type": "code",
   "execution_count": null,
   "metadata": {},
   "outputs": [],
   "source": [
    "from sklearn.utils import resample\n",
    "from sklearn.metrics import accuracy_score\n",
    "stats1 = list()\n",
    "for i in range(n_iterations):\n",
    "   \n",
    "    sample = resample(values, n_samples=n_size) # Sampling with replacement\n",
    "      \n",
    "    train = x_train # 70%\n",
    "    train_shape = train.shape\n",
    "    test = x_test # 30%\n",
    "    test_shape = test.shape\n",
    "\n",
    "    model = GaussianNB()\n",
    "    model.fit(x_train,y_train)\n",
    "\n",
    "    predictions = model.predict(x_test)\n",
    "    score = accuracy_score(y_test, predictions)    \n",
    "    stats1.append(score)\n",
    "    \n",
    "    \n",
    "from matplotlib import pyplot\n",
    "pyplot.hist(stats1)\n",
    "pyplot.show()\n",
    "# confidence intervals\n",
    "alpha = 0.95                             # for 95% confidence \n",
    "p = ((1.0-alpha)/2.0) * 100              # tail regions on right and left .25 on each side indicated by P value (border)\n",
    "lower = max(0.0, np.percentile(stats1, p))  \n",
    "p = (alpha+((1.0-alpha)/2.0)) * 100\n",
    "upper = min(1.0, np.percentile(stats1, p))\n",
    "print('%.1f confidence interval %.1f%% and %.1f%%' % (alpha*100, lower*100, upper*100))"
   ]
  },
  {
   "cell_type": "markdown",
   "metadata": {},
   "source": [
    "## SVM - Linear Model"
   ]
  },
  {
   "cell_type": "code",
   "execution_count": null,
   "metadata": {},
   "outputs": [],
   "source": [
    "# train a SVM model on the training set\n",
    "from sklearn import svm\n",
    "# To find the best C and Gamma hyper-parameters we need to use Grid-Search, here using some random/default params to start with\n",
    "clf = svm.SVC(C=1, kernel='linear', gamma= 0.2)\n",
    "clf.fit(x_train, y_train)"
   ]
  },
  {
   "cell_type": "code",
   "execution_count": null,
   "metadata": {},
   "outputs": [],
   "source": [
    "# make class predictions for the testing set\n",
    "y_pred_class = clf.predict(x_test)"
   ]
  },
  {
   "cell_type": "code",
   "execution_count": null,
   "metadata": {},
   "outputs": [],
   "source": [
    "# calculate accuracy\n",
    "accuracy.append(metrics.accuracy_score(y_test, y_pred_class))\n",
    "print(metrics.accuracy_score(y_test, y_pred_class))"
   ]
  },
  {
   "cell_type": "code",
   "execution_count": null,
   "metadata": {},
   "outputs": [],
   "source": [
    "# IMPORTANT: first argument is true values, second argument is predicted values\n",
    "import itertools\n",
    "from sklearn.metrics import confusion_matrix\n",
    "cnf_matrix = confusion_matrix(y_test, y_pred_class)\n",
    "\n",
    "# Plot non-normalized confusion matrix\n",
    "plt.figure()\n",
    "plot_confusion_matrix(cnf_matrix, classes=pd.unique(y_train),\n",
    "                      title='Confusion matrix, without normalization')"
   ]
  },
  {
   "cell_type": "code",
   "execution_count": null,
   "metadata": {},
   "outputs": [],
   "source": [
    "from sklearn.utils import resample\n",
    "from sklearn.metrics import accuracy_score\n",
    "stats1 = list()\n",
    "for i in range(n_iterations):\n",
    "   \n",
    "    sample = resample(values, n_samples=n_size) # Sampling with replacement\n",
    "      \n",
    "    train = x_train # 70%\n",
    "    train_shape = train.shape\n",
    "    test = x_test # 30%\n",
    "    test_shape = test.shape\n",
    "\n",
    "    model = svm.SVC(C=1, kernel='linear', gamma= 0.2)\n",
    "    model.fit(x_train,y_train)\n",
    "\n",
    "    predictions = model.predict(x_test)\n",
    "    score = accuracy_score(y_test, predictions)    \n",
    "    stats1.append(score)\n",
    "    \n",
    "    \n",
    "from matplotlib import pyplot\n",
    "pyplot.hist(stats1)\n",
    "pyplot.show()\n",
    "# confidence intervals\n",
    "alpha = 0.95                             # for 95% confidence \n",
    "p = ((1.0-alpha)/2.0) * 100              # tail regions on right and left .25 on each side indicated by P value (border)\n",
    "lower = max(0.0, np.percentile(stats1, p))  \n",
    "p = (alpha+((1.0-alpha)/2.0)) * 100\n",
    "upper = min(1.0, np.percentile(stats1, p))\n",
    "print('%.1f confidence interval %.1f%% and %.1f%%' % (alpha*100, lower*100, upper*100))"
   ]
  },
  {
   "cell_type": "markdown",
   "metadata": {},
   "source": [
    "## SVM - RBF Model"
   ]
  },
  {
   "cell_type": "code",
   "execution_count": null,
   "metadata": {},
   "outputs": [],
   "source": [
    "# train a SVM model on the training set\n",
    "from sklearn import svm\n",
    "# To find the best C and Gamma hyper-parameters we need to use Grid-Search, here using some random/default params to start with\n",
    "clf = svm.SVC(C=1, kernel='rbf', gamma=0.2)\n",
    "clf.fit(x_train, y_train)"
   ]
  },
  {
   "cell_type": "code",
   "execution_count": null,
   "metadata": {},
   "outputs": [],
   "source": [
    "# make class predictions for the testing set\n",
    "y_pred_class = clf.predict(x_test)"
   ]
  },
  {
   "cell_type": "code",
   "execution_count": null,
   "metadata": {},
   "outputs": [],
   "source": [
    "# calculate accuracy\n",
    "accuracy.append(metrics.accuracy_score(y_test, y_pred_class))\n",
    "print(metrics.accuracy_score(y_test, y_pred_class))"
   ]
  },
  {
   "cell_type": "code",
   "execution_count": null,
   "metadata": {},
   "outputs": [],
   "source": [
    "# IMPORTANT: first argument is true values, second argument is predicted values\n",
    "import itertools\n",
    "from sklearn.metrics import confusion_matrix\n",
    "cnf_matrix = confusion_matrix(y_test, y_pred_class)\n",
    "\n",
    "# Plot non-normalized confusion matrix\n",
    "plt.figure()\n",
    "plot_confusion_matrix(cnf_matrix, classes=pd.unique(y_train),\n",
    "                      title='Confusion matrix, without normalization')"
   ]
  },
  {
   "cell_type": "code",
   "execution_count": null,
   "metadata": {},
   "outputs": [],
   "source": [
    "from sklearn.utils import resample\n",
    "from sklearn.metrics import accuracy_score\n",
    "stats1 = list()\n",
    "for i in range(n_iterations):\n",
    "   \n",
    "    sample = resample(values, n_samples=n_size) # Sampling with replacement\n",
    "      \n",
    "    train = x_train # 70%\n",
    "    train_shape = train.shape\n",
    "    test = x_test # 30%\n",
    "    test_shape = test.shape\n",
    "\n",
    "    model = svm.SVC(C=1, kernel='rbf', gamma= 0.2)\n",
    "    model.fit(x_train,y_train)\n",
    "\n",
    "    predictions = model.predict(x_test)\n",
    "    score = accuracy_score(y_test, predictions)    \n",
    "    stats1.append(score)\n",
    "    \n",
    "    \n",
    "from matplotlib import pyplot\n",
    "pyplot.hist(stats1)\n",
    "pyplot.show()\n",
    "# confidence intervals\n",
    "alpha = 0.95                             # for 95% confidence \n",
    "p = ((1.0-alpha)/2.0) * 100              # tail regions on right and left .25 on each side indicated by P value (border)\n",
    "lower = max(0.0, np.percentile(stats1, p))  \n",
    "p = (alpha+((1.0-alpha)/2.0)) * 100\n",
    "upper = min(1.0, np.percentile(stats1, p))\n",
    "print('%.1f confidence interval %.1f%% and %.1f%%' % (alpha*100, lower*100, upper*100))"
   ]
  },
  {
   "cell_type": "markdown",
   "metadata": {},
   "source": [
    "## Decision Trees"
   ]
  },
  {
   "cell_type": "code",
   "execution_count": null,
   "metadata": {},
   "outputs": [],
   "source": [
    "from sklearn.tree import DecisionTreeClassifier\n",
    "dt_model = DecisionTreeClassifier(criterion = 'entropy' )\n",
    "dt_model.fit(x_train, y_train)"
   ]
  },
  {
   "cell_type": "code",
   "execution_count": null,
   "metadata": {},
   "outputs": [],
   "source": [
    "y_pred_class = dt_model.predict(x_test)"
   ]
  },
  {
   "cell_type": "code",
   "execution_count": null,
   "metadata": {},
   "outputs": [],
   "source": [
    "accuracy.append(dt_model.score(x_test, y_test))\n",
    "dt_model.score(x_test, y_test)  "
   ]
  },
  {
   "cell_type": "code",
   "execution_count": null,
   "metadata": {},
   "outputs": [],
   "source": [
    "# IMPORTANT: first argument is true values, second argument is predicted values\n",
    "import itertools\n",
    "from sklearn.metrics import confusion_matrix\n",
    "cnf_matrix = confusion_matrix(y_test, y_pred_class)\n",
    "\n",
    "# Plot non-normalized confusion matrix\n",
    "plt.figure()\n",
    "plot_confusion_matrix(cnf_matrix, classes=pd.unique(y_train),\n",
    "                      title='Confusion matrix, without normalization')"
   ]
  },
  {
   "cell_type": "code",
   "execution_count": null,
   "metadata": {},
   "outputs": [],
   "source": [
    "from sklearn.utils import resample\n",
    "from sklearn.metrics import accuracy_score\n",
    "stats1 = list()\n",
    "for i in range(n_iterations):\n",
    "   \n",
    "    sample = resample(values, n_samples=n_size) # Sampling with replacement\n",
    "      \n",
    "    train = x_train # 70%\n",
    "    train_shape = train.shape\n",
    "    test = x_test # 30%\n",
    "    test_shape = test.shape\n",
    "\n",
    "    model = DecisionTreeClassifier()\n",
    "    model.fit(x_train,y_train)\n",
    "\n",
    "    predictions = model.predict(x_test)\n",
    "    score = accuracy_score(y_test, predictions)    \n",
    "    stats1.append(score)\n",
    "    \n",
    "    \n",
    "from matplotlib import pyplot\n",
    "pyplot.hist(stats1)\n",
    "pyplot.show()\n",
    "# confidence intervals\n",
    "alpha = 0.95                             # for 95% confidence \n",
    "p = ((1.0-alpha)/2.0) * 100              # tail regions on right and left .25 on each side indicated by P value (border)\n",
    "lower = max(0.0, np.percentile(stats1, p))  \n",
    "p = (alpha+((1.0-alpha)/2.0)) * 100\n",
    "upper = min(1.0, np.percentile(stats1, p))\n",
    "print('%.1f confidence interval %.1f%% and %.1f%%' % (alpha*100, lower*100, upper*100))"
   ]
  },
  {
   "cell_type": "markdown",
   "metadata": {},
   "source": [
    "## Ensemble Learning - Bagging"
   ]
  },
  {
   "cell_type": "code",
   "execution_count": null,
   "metadata": {},
   "outputs": [],
   "source": [
    "from sklearn.ensemble import BaggingClassifier\n",
    "bgcl = BaggingClassifier(base_estimator=dt_model, n_estimators=19, max_samples=.7)\n",
    "#bgcl = BaggingClassifier(n_estimators=9 , max_samples=.7)\n",
    "bgcl = bgcl.fit(x_train, y_train)"
   ]
  },
  {
   "cell_type": "code",
   "execution_count": null,
   "metadata": {},
   "outputs": [],
   "source": [
    "y_pred_class = bgcl.predict(x_test)\n",
    "accuracy.append(bgcl.score(x_test, y_test))\n",
    "bgcl.score(x_test, y_test)"
   ]
  },
  {
   "cell_type": "code",
   "execution_count": null,
   "metadata": {},
   "outputs": [],
   "source": [
    "# IMPORTANT: first argument is true values, second argument is predicted values\n",
    "import itertools\n",
    "from sklearn.metrics import confusion_matrix\n",
    "cnf_matrix = confusion_matrix(y_test, y_pred_class)\n",
    "\n",
    "# Plot non-normalized confusion matrix\n",
    "plt.figure()\n",
    "plot_confusion_matrix(cnf_matrix, classes=pd.unique(y_train),\n",
    "                      title='Confusion matrix, without normalization')"
   ]
  },
  {
   "cell_type": "code",
   "execution_count": null,
   "metadata": {},
   "outputs": [],
   "source": [
    "from sklearn.utils import resample\n",
    "from sklearn.metrics import accuracy_score\n",
    "stats1 = list()\n",
    "for i in range(n_iterations):\n",
    "   \n",
    "    sample = resample(values, n_samples=n_size) # Sampling with replacement\n",
    "      \n",
    "    train = x_train # 70%\n",
    "    train_shape = train.shape\n",
    "    test = x_test # 30%\n",
    "    test_shape = test.shape\n",
    "\n",
    "    model = BaggingClassifier()\n",
    "    model.fit(x_train,y_train)\n",
    "\n",
    "    predictions = model.predict(x_test)\n",
    "    score = accuracy_score(y_test, predictions)    \n",
    "    stats1.append(score)\n",
    "    \n",
    "    \n",
    "from matplotlib import pyplot\n",
    "pyplot.hist(stats1)\n",
    "pyplot.show()\n",
    "# confidence intervals\n",
    "alpha = 0.95                             # for 95% confidence \n",
    "p = ((1.0-alpha)/2.0) * 100              # tail regions on right and left .25 on each side indicated by P value (border)\n",
    "lower = max(0.0, np.percentile(stats1, p))  \n",
    "p = (alpha+((1.0-alpha)/2.0)) * 100\n",
    "upper = min(1.0, np.percentile(stats1, p))\n",
    "print('%.1f confidence interval %.1f%% and %.1f%%' % (alpha*100, lower*100, upper*100))"
   ]
  },
  {
   "cell_type": "markdown",
   "metadata": {},
   "source": [
    "## Ensemble Learning - AdaBoosting"
   ]
  },
  {
   "cell_type": "code",
   "execution_count": null,
   "metadata": {},
   "outputs": [],
   "source": [
    "from sklearn.ensemble import AdaBoostClassifier\n",
    "#abcl = AdaBoostClassifier(base_estimator=dt_model, n_estimators=50)\n",
    "abcl = AdaBoostClassifier( n_estimators= 50)\n",
    "abcl = abcl.fit(x_train, y_train)"
   ]
  },
  {
   "cell_type": "code",
   "execution_count": null,
   "metadata": {},
   "outputs": [],
   "source": [
    "from sklearn.ensemble import AdaBoostClassifier"
   ]
  },
  {
   "cell_type": "code",
   "execution_count": null,
   "metadata": {},
   "outputs": [],
   "source": [
    "y_pred_class = abcl.predict(x_test)\n",
    "accuracy.append(abcl.score(x_test, y_test))\n",
    "abcl.score(x_test, y_test)"
   ]
  },
  {
   "cell_type": "code",
   "execution_count": null,
   "metadata": {},
   "outputs": [],
   "source": [
    "# IMPORTANT: first argument is true values, second argument is predicted values\n",
    "import itertools\n",
    "from sklearn.metrics import confusion_matrix\n",
    "cnf_matrix = confusion_matrix(y_test, y_pred_class)\n",
    "\n",
    "# Plot non-normalized confusion matrix\n",
    "plt.figure()\n",
    "plot_confusion_matrix(cnf_matrix, classes=pd.unique(y_train),\n",
    "                      title='Confusion matrix, without normalization')"
   ]
  },
  {
   "cell_type": "code",
   "execution_count": null,
   "metadata": {},
   "outputs": [],
   "source": [
    "from sklearn.utils import resample\n",
    "from sklearn.metrics import accuracy_score\n",
    "stats1 = list()\n",
    "for i in range(n_iterations):\n",
    "   \n",
    "    sample = resample(values, n_samples=n_size) # Sampling with replacement\n",
    "      \n",
    "    train = x_train # 70%\n",
    "    train_shape = train.shape\n",
    "    test = x_test # 30%\n",
    "    test_shape = test.shape\n",
    "\n",
    "    model = AdaBoostClassifier()\n",
    "    model.fit(x_train,y_train)\n",
    "\n",
    "    predictions = model.predict(x_test)\n",
    "    score = accuracy_score(y_test, predictions)    \n",
    "    stats1.append(score)\n",
    "    \n",
    "    \n",
    "from matplotlib import pyplot\n",
    "pyplot.hist(stats1)\n",
    "pyplot.show()\n",
    "# confidence intervals\n",
    "alpha = 0.95                             # for 95% confidence \n",
    "p = ((1.0-alpha)/2.0) * 100              # tail regions on right and left .25 on each side indicated by P value (border)\n",
    "lower = max(0.0, np.percentile(stats1, p))  \n",
    "p = (alpha+((1.0-alpha)/2.0)) * 100\n",
    "upper = min(1.0, np.percentile(stats1, p))\n",
    "print('%.1f confidence interval %.1f%% and %.1f%%' % (alpha*100, lower*100, upper*100))"
   ]
  },
  {
   "cell_type": "code",
   "execution_count": null,
   "metadata": {},
   "outputs": [],
   "source": []
  },
  {
   "cell_type": "markdown",
   "metadata": {},
   "source": [
    "## Ensemble Learning - GradientBoost"
   ]
  },
  {
   "cell_type": "code",
   "execution_count": null,
   "metadata": {},
   "outputs": [],
   "source": [
    "from sklearn.ensemble import GradientBoostingClassifier\n",
    "gbcl = GradientBoostingClassifier(n_estimators = 50, learning_rate = 0.05)\n",
    "gbcl = gbcl.fit(x_train, y_train)"
   ]
  },
  {
   "cell_type": "code",
   "execution_count": null,
   "metadata": {},
   "outputs": [],
   "source": [
    "y_pred_class = gbcl.predict(x_test)\n",
    "accuracy.append(gbcl.score(x_test, y_test))\n",
    "gbcl.score(x_test, y_test)"
   ]
  },
  {
   "cell_type": "code",
   "execution_count": null,
   "metadata": {},
   "outputs": [],
   "source": [
    "# IMPORTANT: first argument is true values, second argument is predicted values\n",
    "import itertools\n",
    "from sklearn.metrics import confusion_matrix\n",
    "cnf_matrix = confusion_matrix(y_test, y_pred_class)\n",
    "\n",
    "# Plot non-normalized confusion matrix\n",
    "plt.figure()\n",
    "plot_confusion_matrix(cnf_matrix, classes=pd.unique(y_train),\n",
    "                      title='Confusion matrix, without normalization')"
   ]
  },
  {
   "cell_type": "code",
   "execution_count": null,
   "metadata": {},
   "outputs": [],
   "source": [
    "from sklearn.utils import resample\n",
    "from sklearn.metrics import accuracy_score\n",
    "stats1 = list()\n",
    "for i in range(n_iterations):\n",
    "   \n",
    "    sample = resample(values, n_samples=n_size) # Sampling with replacement\n",
    "      \n",
    "    train = x_train # 70%\n",
    "    train_shape = train.shape\n",
    "    test = x_test # 30%\n",
    "    test_shape = test.shape\n",
    "\n",
    "    model = GradientBoostingClassifier()\n",
    "    model.fit(x_train,y_train)\n",
    "\n",
    "    predictions = model.predict(x_test)\n",
    "    score = accuracy_score(y_test, predictions)    \n",
    "    stats1.append(score)\n",
    "    \n",
    "    \n",
    "from matplotlib import pyplot\n",
    "pyplot.hist(stats1)\n",
    "pyplot.show()\n",
    "# confidence intervals\n",
    "alpha = 0.95                             # for 95% confidence \n",
    "p = ((1.0-alpha)/2.0) * 100              # tail regions on right and left .25 on each side indicated by P value (border)\n",
    "lower = max(0.0, np.percentile(stats1, p))  \n",
    "p = (alpha+((1.0-alpha)/2.0)) * 100\n",
    "upper = min(1.0, np.percentile(stats1, p))\n",
    "print('%.1f confidence interval %.1f%% and %.1f%%' % (alpha*100, lower*100, upper*100))"
   ]
  },
  {
   "cell_type": "markdown",
   "metadata": {},
   "source": [
    "## Ensemble RandomForest Classifier"
   ]
  },
  {
   "cell_type": "code",
   "execution_count": null,
   "metadata": {},
   "outputs": [],
   "source": [
    "from sklearn.ensemble import RandomForestClassifier\n",
    "rfcl = RandomForestClassifier(n_estimators = 50)\n",
    "rfcl = rfcl.fit(x_train, y_train)"
   ]
  },
  {
   "cell_type": "code",
   "execution_count": null,
   "metadata": {},
   "outputs": [],
   "source": [
    "y_pred_class = rfcl.predict(x_test)\n",
    "accuracy.append(rfcl.score(x_test, y_test))\n",
    "rfcl.score(x_test, y_test)"
   ]
  },
  {
   "cell_type": "code",
   "execution_count": null,
   "metadata": {},
   "outputs": [],
   "source": [
    "# IMPORTANT: first argument is true values, second argument is predicted values\n",
    "import itertools\n",
    "from sklearn.metrics import confusion_matrix\n",
    "cnf_matrix = confusion_matrix(y_test, y_pred_class)\n",
    "\n",
    "# Plot non-normalized confusion matrix\n",
    "plt.figure()\n",
    "plot_confusion_matrix(cnf_matrix, classes=pd.unique(y_train),\n",
    "                      title='Confusion matrix, without normalization')"
   ]
  },
  {
   "cell_type": "code",
   "execution_count": null,
   "metadata": {},
   "outputs": [],
   "source": [
    "from sklearn.utils import resample\n",
    "from sklearn.metrics import accuracy_score\n",
    "stats1 = list()\n",
    "for i in range(n_iterations):\n",
    "   \n",
    "    sample = resample(values, n_samples=n_size) # Sampling with replacement\n",
    "      \n",
    "    train = x_train # 70%\n",
    "    train_shape = train.shape\n",
    "    test = x_test # 30%\n",
    "    test_shape = test.shape\n",
    "\n",
    "    model = RandomForestClassifier()\n",
    "    model.fit(x_train,y_train)\n",
    "\n",
    "    predictions = model.predict(x_test)\n",
    "    score = accuracy_score(y_test, predictions)    \n",
    "    stats1.append(score)\n",
    "    \n",
    "    \n",
    "from matplotlib import pyplot\n",
    "pyplot.hist(stats1)\n",
    "pyplot.show()\n",
    "# confidence intervals\n",
    "alpha = 0.95                             # for 95% confidence \n",
    "p = ((1.0-alpha)/2.0) * 100              # tail regions on right and left .25 on each side indicated by P value (border)\n",
    "lower = max(0.0, np.percentile(stats1, p))  \n",
    "p = (alpha+((1.0-alpha)/2.0)) * 100\n",
    "upper = min(1.0, np.percentile(stats1, p))\n",
    "print('%.1f confidence interval %.1f%% and %.1f%%' % (alpha*100, lower*100, upper*100))"
   ]
  },
  {
   "cell_type": "markdown",
   "metadata": {},
   "source": [
    "# K Fold Cross Validation"
   ]
  },
  {
   "cell_type": "code",
   "execution_count": null,
   "metadata": {},
   "outputs": [],
   "source": [
    "from sklearn.model_selection import cross_val_score\n",
    "from sklearn.linear_model import LogisticRegression\n",
    "logreg = LogisticRegression()\n",
    "logreg_scores = cross_val_score(logreg,X,Y, cv=10)\n",
    "logreg_scores"
   ]
  },
  {
   "cell_type": "code",
   "execution_count": null,
   "metadata": {},
   "outputs": [],
   "source": [
    "clf = GaussianNB()\n",
    "NB_scores = cross_val_score(clf,X,Y, cv=10)\n",
    "NB_scores"
   ]
  },
  {
   "cell_type": "code",
   "execution_count": null,
   "metadata": {},
   "outputs": [],
   "source": [
    "KNNH = KNeighborsClassifier(n_neighbors= 9 , weights = 'uniform', metric='euclidean')\n",
    "KNN_scores = cross_val_score(KNNH,X, Y, cv=10)\n",
    "KNN_scores"
   ]
  },
  {
   "cell_type": "code",
   "execution_count": null,
   "metadata": {},
   "outputs": [],
   "source": [
    "from sklearn import svm\n",
    "svmlnr = svm.SVC(C=1, kernel='linear',gamma=0.2)\n",
    "svmlnr_scores = cross_val_score(svmlnr,X,Y, cv=10)\n",
    "svmlnr_scores"
   ]
  },
  {
   "cell_type": "code",
   "execution_count": null,
   "metadata": {},
   "outputs": [],
   "source": [
    "svmrbf = svm.SVC(C=1, kernel='rbf',gamma=0.2)\n",
    "svmrbf_scores = cross_val_score(svmrbf, X,Y, cv=10)\n",
    "svmrbf_scores"
   ]
  },
  {
   "cell_type": "code",
   "execution_count": null,
   "metadata": {},
   "outputs": [],
   "source": [
    "dt_model = DecisionTreeClassifier(criterion = 'entropy' )\n",
    "dt_scores = cross_val_score(dt_model,X,Y, cv=10)\n",
    "dt_scores"
   ]
  },
  {
   "cell_type": "code",
   "execution_count": null,
   "metadata": {},
   "outputs": [],
   "source": [
    "bgcl = BaggingClassifier(base_estimator=dt_model, n_estimators=19, max_samples=.7)\n",
    "bgcl_scores = cross_val_score(bgcl,X,Y, cv=10)\n",
    "bgcl_scores"
   ]
  },
  {
   "cell_type": "code",
   "execution_count": null,
   "metadata": {},
   "outputs": [],
   "source": [
    "abcl = AdaBoostClassifier( n_estimators= 50)\n",
    "abcl_scores = cross_val_score(abcl,X,Y, cv=10)\n",
    "abcl_scores"
   ]
  },
  {
   "cell_type": "code",
   "execution_count": null,
   "metadata": {},
   "outputs": [],
   "source": [
    "gbcl = GradientBoostingClassifier(n_estimators = 50, learning_rate = 0.05)\n",
    "gbcl_scores = cross_val_score(gbcl,X,Y, cv=10)\n",
    "gbcl_scores"
   ]
  },
  {
   "cell_type": "code",
   "execution_count": null,
   "metadata": {},
   "outputs": [],
   "source": [
    "rfcl = RandomForestClassifier(n_estimators = 50)\n",
    "rfcl_scores = cross_val_score(rfcl,X,Y, cv=10)\n",
    "rfcl_scores"
   ]
  },
  {
   "cell_type": "code",
   "execution_count": null,
   "metadata": {},
   "outputs": [],
   "source": [
    "cross_val_scores_df = pd.DataFrame(np.hstack((logreg_scores,NB_scores,KNN_scores,svmlnr_scores,svmrbf_scores,dt_scores,bgcl_scores,abcl_scores,gbcl_scores,rfcl_scores)))"
   ]
  },
  {
   "cell_type": "code",
   "execution_count": null,
   "metadata": {},
   "outputs": [],
   "source": [
    "cross_val_scores_df['Method'] = [\"Mthod\"]*100\n",
    "cross_val_scores_df.columns = [\"Scores\",\"Method\"]\n",
    "for i in range(100):\n",
    "    if i < 10:\n",
    "        cross_val_scores_df.loc[i,'Method'] = 'Lgt_Regrsn'\n",
    "    elif (i >= 10) and (i < 20):\n",
    "        cross_val_scores_df.loc[i,'Method'] = 'Naive_Bayes'\n",
    "    elif (i >= 20) and (i < 30):\n",
    "        cross_val_scores_df.loc[i,'Method'] = 'KNN'\n",
    "    elif (i >= 30) and (i < 40):\n",
    "        cross_val_scores_df.loc[i,'Method'] = 'SVM_Linear'\n",
    "    elif (i >= 40) and (i < 50):\n",
    "        cross_val_scores_df.loc[i,'Method'] = 'SVM_RBF'\n",
    "    elif (i >= 50) and (i < 60):\n",
    "        cross_val_scores_df.loc[i,'Method'] = 'Decision_Tree'\n",
    "    elif (i >= 60) and (i < 70):\n",
    "        cross_val_scores_df.loc[i,'Method'] = 'Bagging'\n",
    "    elif (i >= 70) and (i < 80):\n",
    "        cross_val_scores_df.loc[i,'Method'] = 'Ada_Boost'\n",
    "    elif (i >= 80) and (i < 90):\n",
    "        cross_val_scores_df.loc[i,'Method'] = 'Grad_Boost'\n",
    "    elif (i >= 90) and (i < 100):\\\n",
    "        cross_val_scores_df.loc[i,'Method'] = 'Random_Forest'\n"
   ]
  },
  {
   "cell_type": "code",
   "execution_count": null,
   "metadata": {},
   "outputs": [],
   "source": [
    "sns.boxplot(x=\"Scores\", y=\"Method\", data=cross_val_scores_df, palette=\"PRGn\")"
   ]
  },
  {
   "cell_type": "code",
   "execution_count": null,
   "metadata": {},
   "outputs": [],
   "source": [
    "models = [\"Logistic\",\"KNN\", \"Naive_bayes\",\"SVM_Linear\",\"SVM_RBF\",\"Decision_Tree\",\"Bagging\",\"AdaBoost\",\"GradBoost\",\"Random_Forest\"]"
   ]
  },
  {
   "cell_type": "code",
   "execution_count": null,
   "metadata": {},
   "outputs": [],
   "source": [
    "accuracy"
   ]
  },
  {
   "cell_type": "code",
   "execution_count": null,
   "metadata": {},
   "outputs": [],
   "source": [
    "def eg3_lc(keys, values):\n",
    "    return { keys[i] : values[i] for i in range(len(keys)) }"
   ]
  },
  {
   "cell_type": "code",
   "execution_count": null,
   "metadata": {},
   "outputs": [],
   "source": [
    "eg3_lc(models, accuracy)"
   ]
  },
  {
   "cell_type": "code",
   "execution_count": null,
   "metadata": {},
   "outputs": [],
   "source": [
    "Logistic\",\"KNN\", \"Naive_bayes\",\"SVM_Linear\",\"SVM_RBF\",\"Decision_Tree\",\"Bagging\",\"AdaBoost\",\"GradBoost\",\"Random_Forest"
   ]
  },
  {
   "cell_type": "code",
   "execution_count": null,
   "metadata": {},
   "outputs": [],
   "source": []
  },
  {
   "cell_type": "code",
   "execution_count": null,
   "metadata": {},
   "outputs": [],
   "source": [
    "models = []\n",
    "models.append(('LR', LogisticRegression()))\n",
    "models.append(('KNN', KNeighborsClassifier()))\n",
    "models.append(('CART', DecisionTreeClassifier()))\n",
    "models.append(('RFC', RandomForestClassifier()))\n",
    "models.append(('GBC', GradientBoostingClassifier()))\n",
    "models.append(('ADA', AdaBoostClassifier()))\n",
    "models.append(('Bag', BaggingClassifier()))\n",
    "models.append(('NB', GaussianNB()))\n",
    "models.append(('SVM', SVC()))\n",
    "# evaluate each model in turn\n",
    "results = []\n",
    "names = []\n",
    "seed=7\n",
    "scoring = 'accuracy'\n",
    "for name, model in models:\n",
    "\tkfold = model_selection.KFold(n_splits=10, random_state=seed)\n",
    "\tcv_results = model_selection.cross_val_score(model, X, Y, cv=kfold, scoring=scoring)\n",
    "\tresults.append(cv_results)\n",
    "\tnames.append(name)\n",
    "\tmsg = \"%s: %f (%f)\" % (name, cv_results.mean(), cv_results.std())\n",
    "\tprint(msg)\n",
    "# boxplot algorithm comparison\n",
    "fig = plt.figure()\n",
    "fig.suptitle('Algorithm Comparison')\n",
    "ax = fig.add_subplot(111)\n",
    "plt.boxplot(results)\n",
    "ax.set_xticklabels(names)\n",
    "plt.show()"
   ]
  },
  {
   "cell_type": "markdown",
   "metadata": {},
   "source": [
    "## Apart from ensemble methods, Logistic and SVM_Linear produced good accuracy scores in 10-fold cross validation\n",
    "## Considering Ensembles Bagging, Grad Boost and Random Forest showed high accuracy scores.\n",
    "## But, if we look at the variance, accuracy scores of Naive Bayes & KNN has less Variance but accuracy range is also less\n",
    "## Later, Decision Tree and Ada Boost are having lesser variance compared to others with good accuracy range\n",
    "## All, other models are having more variance when in 10 fold cross-validation\n",
    "\n",
    "## So, with this simple implementation let's perform boot strap sampling for logistic,Decision Tree and Random Forest and determine the accuracy range with 95% confidence interval"
   ]
  },
  {
   "cell_type": "markdown",
   "metadata": {},
   "source": [
    "Conclusion:\n",
    "## With 95% of confidence interval, we see that \"Random Forest\" produced better accuracy range with this simple implementation.\n",
    "## To prefer a simple model against any ensemle methods i.e. with less complexity, we can prefer going with Logistic Regression with some extra fine tuning (i.e. by understanding the variables (as here the variables are hidden) and retreating them)\n",
    "## Now, we have used Gridsearch CV only to KNN Classifier to determine the best K value, we can use same GridSearch CV for all other classifiers to determine the best hyper parameter values  i.e. C & gamma for SVM, n estimators, learning rate for ensemble methods and then repeating the experiment with best hyper parameter values may fetch much better scores.\n",
    "\n",
    "## Also, as we know combination of models can generally perform better than a single model. \n",
    "## By combining the logistic regression and Tree based algorithms, we may be further able to improve the classification accuracy, as the these two models resulted better range of accuracies."
   ]
  }
 ],
 "metadata": {
  "kernelspec": {
   "display_name": "Python 3",
   "language": "python",
   "name": "python3"
  },
  "language_info": {
   "codemirror_mode": {
    "name": "ipython",
    "version": 3
   },
   "file_extension": ".py",
   "mimetype": "text/x-python",
   "name": "python",
   "nbconvert_exporter": "python",
   "pygments_lexer": "ipython3",
   "version": "3.7.3"
  }
 },
 "nbformat": 4,
 "nbformat_minor": 2
}
